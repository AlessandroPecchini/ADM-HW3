{
 "cells": [
  {
   "cell_type": "markdown",
   "metadata": {},
   "source": [
    "# HOMEWORK 3"
   ]
  },
  {
   "cell_type": "markdown",
   "metadata": {},
   "source": [
    "## 1) DATA COLLECTION"
   ]
  },
  {
   "cell_type": "markdown",
   "metadata": {},
   "source": [
    "### 1.1 Get the list of animes\n",
    "We start from the list of animes to include in your corpus of documents. In particular, we focus on the top animes ever list. From this list we want to collect the url associated to each anime in the list. The list is long and splitted in many pages. We ask you to retrieve only the urls of the animes listed in the first 400 pages (each page has 50 animes so you will end up with 20000 unique anime urls).\n",
    "\n",
    "The output of this step is a .txt file whose single line corresponds to an anime's url."
   ]
  },
  {
   "cell_type": "markdown",
   "metadata": {},
   "source": [
    "## Solution:\n",
    "The main idea is to split the work between the retrieving of the html pages (skipping the already stored urls) and the retrieving of the links in the pages.<br>\n",
    "Once we've defined a way to scrap the urls from the page, we'll iterate over 20000 to get all the pages till that number. At the time of execution the urls retrieved was only 19122, but in other execution it was even 19128, so it depends from the moment you execute that. The file was created in 5-Nov-2021 so the list refers to the content of the site in that day."
   ]
  },
  {
   "cell_type": "code",
   "execution_count": null,
   "metadata": {},
   "outputs": [],
   "source": [
    "#import libraries\n",
    "import requests\n",
    "url = 'https://myanimelist.net/topanime.php'\n",
    "response= requests.get(url)\n",
    "from bs4 import BeautifulSoup"
   ]
  },
  {
   "cell_type": "code",
   "execution_count": null,
   "metadata": {},
   "outputs": [],
   "source": [
    "soup = BeautifulSoup(response.text, 'html.parser')"
   ]
  },
  {
   "cell_type": "code",
   "execution_count": null,
   "metadata": {},
   "outputs": [],
   "source": [
    "def get_links_from_soup(soup):\n",
    "    ''' \n",
    "        Given a BeautifulSoup object the functions iterates over all the links in the table rows in the corrisponding page.\n",
    "        The functions also returns the list containing all the destination (href) of these links\n",
    "    '''\n",
    "    anime = []\n",
    "    for tag in soup.find_all('tr'):\n",
    "        links = tag.find_all('a')\n",
    "        for link in links:\n",
    "            # checking if there is a content in the link\n",
    "            if type(link.get('id')) == str and len(link.contents[0]) > 1:\n",
    "                anime.append((link.contents[0], link.get('href')))\n",
    "    return anime"
   ]
  },
  {
   "cell_type": "code",
   "execution_count": null,
   "metadata": {},
   "outputs": [],
   "source": [
    "tot_list= []\n",
    "for lim in range(0, 20000, 50):\n",
    "    \n",
    "    # The principal page of animelis, so: https://myanimelist.net/topanime.php\n",
    "    if lim==0:\n",
    "        new_url = url\n",
    "    else: # we've to skio the first lim elements\n",
    "        new_url = url+'?limit='+str(lim)\n",
    "    response = requests.get(new_url)\n",
    "    soup = BeautifulSoup(response.text, 'html.parser')\n",
    "    tot_list += get_links_from_soup(soup)"
   ]
  },
  {
   "cell_type": "code",
   "execution_count": null,
   "metadata": {},
   "outputs": [],
   "source": [
    "len(tot_list)"
   ]
  },
  {
   "cell_type": "code",
   "execution_count": null,
   "metadata": {},
   "outputs": [],
   "source": [
    "# Given that the list contains couples in the form: name, link and we want only the link, we save only the second element\n",
    "\n",
    "with open('out.txt', 'w') as f:\n",
    "    for n, link in tot_list:\n",
    "        f.write(link+'\\n')"
   ]
  },
  {
   "cell_type": "markdown",
   "metadata": {},
   "source": [
    "### 1.2. Crawl animes\n",
    "Once you get all the urls in the first 400 pages of the list, you:\n",
    "\n",
    "* Download the html corresponding to each of the collected urls.\n",
    "* After you collect a single page, immediately save its html in a file. In this way, if your program stops, for any reason, you will not lose the data collected up to the * * * stopping point. More details in Important (2).\n",
    "* Organize the entire set of downloaded html pages into folders. Each folder will contain the htmls of the animes in page 1, page 2, ... of the list of animes."
   ]
  },
  {
   "cell_type": "markdown",
   "metadata": {},
   "source": [
    "**Important**\n",
    "\n",
    "Due to the large amount of pages you need to download, follow the next tips that will help you speeding up several time-consuming operations.\n",
    "\n",
    "[Save time downloading files] You are asked to crawl a considerable number of pages, which will take plenty of time. To speed up the operation, we suggest you to work in parallel with your group's colleagues or even generate code that works in parallel with all the CPUs available in your computer. In particular, using the same code, each component of the group can be in charge of downloading a subset of pages (e.g., the first 100). PAY ATTENTION: Once obtained all the pages, merge your results into an unique dataset. In fact, the search engine must look up for results in the whole set of documents.\n",
    "\n",
    "[Save your data] It is not nice to restart a crawling procedure, given its runtime. For this reason, it is extremely important that for every time you crawl a page, you must save it with the name article_i.html, where i corresponds to the number of articles you have already downloaded. In such way, if something goes bad, you can restart your crawling procedure from the i+1-th document."
   ]
  },
  {
   "cell_type": "markdown",
   "metadata": {},
   "source": [
    "## Solution:\n",
    "Once the website has to protect itself, it will block our requests if they are too much, so i've looked first if there's an error and, in that case, the program stops for a random range of time.<br>\n",
    "In this way we've collected only cleaned pages (not the one containing the error button).<br>\n",
    "The program (that can be found in the [downloder.py](downloader.py) file) has not been run by this notebook, but we've made a CLI version in order to run it from the terminal in how many terminal you want in order to work in parallel.<br>\n",
    "The specification of that function can be retrieved in that file and even launching it from terminal with the ```--h``` flag only to see the documentation and the usage."
   ]
  },
  {
   "cell_type": "markdown",
   "metadata": {},
   "source": [
    "### 1.3 Parse downloaded pages\n",
    "At this point, you should have all the html documents about the animes of interest and you can start to extract the animes informations. The list of information we desire for each anime and their format is the following:\n",
    "\n",
    "* **Anime Name** (to save as animeTitle): *String*\n",
    "* **Anime Type** (to save as animeType): *String*\n",
    "* **Number of episode** (to save as animeNumEpisode): *Integer*\n",
    "* **Release and End Dates of anime** (to save as releaseDate and endDate): Convert both release and end date into *datetime format*.\n",
    "* **Number of members** (to save as animeNumMembers): *Integer*\n",
    "* **Score** (to save as animeScore): *Float*\n",
    "* **Users** (to save as animeUsers): *Integer*\n",
    "* **Rank** (to save as animeRank): *Integer*\n",
    "* **Popularity** (to save as animePopularity): *Integer*\n",
    "* **Synopsis** (to save as animeDescription): *String*\n",
    "* **Related Anime** (to save as animeRelated): Extract all the related animes, but only keep unique values and those that have a hyperlink associated to them. *List of strings*.\n",
    "* **Characters** (to save as animeCharacters): *List of strings*.\n",
    "* **Voices** (to save as animeVoices): *List of strings*\n",
    "* **Staff** (to save as animeStaff): Include the staff name and their responsibility/task in a *list of lists*."
   ]
  },
  {
   "cell_type": "code",
   "execution_count": 5,
   "metadata": {},
   "outputs": [],
   "source": [
    "import html_parser"
   ]
  },
  {
   "cell_type": "markdown",
   "metadata": {},
   "source": [
    "## Solution:\n",
    "\n",
    "All the needed functions are in the [html_parser.py](./html_parser.py) file that contains the relative comments and documentation too.\n",
    "The only function that has to be called to entirely solve this point is the ```save_tsv_info``` function.<br>\n",
    "Even if the function that will be called in order to get all the needed data in the tsv format is only one, the function implemented are several and more or less they are grouped in three category:\n",
    "* support function (to obtain a BeautifulSoup object from the html o to retrieve the datetime format from a string)\n",
    "* webscraping function: They are the core of this implementation, all of them takes as parameter a BeautifulSoup object and a dictionary and their purpouse is to put into this dictionary as much information as possible starting from the object in input\n",
    "* applicative function: They allow to directly obtain the data from a file o an index employing the other functions (i.e. ```save_tsv_info```)\n",
    "\n",
    "### Webscraping:\n",
    "In order to retrieve the 13 required fields we need first of all to study the structure of the page.<br>\n",
    "In general the title is simple to retrieve using bs.<br>\n",
    "The page, in general is structured as a series of nested tables, so we have a huge table with two columns, one for the left menu that contains all the info relatives to the score, the type of the serie, the ranking and so on and the other is the real body of the page, containing the synopsis, the related animes and other required fields.<br>\n",
    "<newline>\n",
    "Considering that, we have written a function called ```get_left_attributes``` that retrieves the values for the fields:\n",
    "* episodes\n",
    "* start_date\n",
    "* end_date\n",
    "* score\n",
    "* users\n",
    "* rank\n",
    "* members\n",
    "* popularity\n",
    "* type\n",
    "These fields are all in one div for each one and this div has the class equal to '*spaceit_pad*', then we have as content of this div a list of values in the form (at exception of the score) ```['\\n', name_of_the_value, value]``` then value has to be processed in order to extract the date or the integer and so on.<br>\n",
    "<newline>\n",
    "\n",
    "The remaining values can be found in the right column of the huge table inside different divs or subtables.<br>\n",
    "<newline>\n",
    "\n",
    "#### Synopsis<br>\n",
    "Can be found simply in a paragraph with the attribute '*itemprop*' equal to 'description'<br>\n",
    "#### Related animes<br>\n",
    "They are inside a dedicated table with class '*anime_detail_related_anime*', in particular we want only the animes for which exists a link, so we'll iterate over all the links in that table and we'll take the different contents returning the unique values\n",
    "#### Staff<br>\n",
    "In this case (as for the next) the function will work directly on a specific div (the divs that has the class '*detail-characters-list clearfix*')<br>\n",
    "Given that div we have all the names that we need as content of links so we'll simply iterate over it and collect the data of interest\n",
    "#### Characters and voices<br>\n",
    "This div has the same class of the above one, so if we have only one of the two we can distinguish them by the content of an h3 element of the class '*h3_characters_voice_actors*'.<br>\n",
    "Starting from this div we have other two div in order to split the list in two columns, these divs contains a list of tables, each of them contains only one row and three columns, one for the images of the characters, one for the name of the characters and the third for the voice, so we'll iterate over the row elements and selecting only the second two columns.<br>\n",
    "From the first and the second we'll get the link element containing the name either of the character or for the voice.\n",
    "#### Putting all togheter<br>\n",
    "It's done with a function that uses each of these subfunction in order to retrieve, given an html page, the content of interest in a dictionary\n",
    "<newline>\n",
    "\n",
    "Once we can obtain a dictionary with the data of interest converting and saving it in a tsv file is trivial and it's done by ad-hoc functions. All this work is encapsulated in the funciton ```save_tsv_info``` that takes the ranges of the page for which we that we want to save the scraped tsv, the base directory where these page are stored and the destination directory over which the outputs will be stored."
   ]
  },
  {
   "cell_type": "code",
   "execution_count": 6,
   "metadata": {},
   "outputs": [
    {
     "data": {
      "text/plain": [
       "{'title': 'Fullmetal Alchemist: Brotherhood',\n",
       " 'type': 'TV',\n",
       " 'episodes': 64,\n",
       " 'start_date': datetime.datetime(2009, 4, 5, 0, 0),\n",
       " 'end_date': datetime.datetime(2010, 7, 4, 0, 0),\n",
       " 'score': 9.16,\n",
       " 'users': 1622384,\n",
       " 'ranked': 1,\n",
       " 'popularity': 3,\n",
       " 'members': 2675906,\n",
       " 'synopsis': \"After a horrific alchemy experiment goes wrong in the Elric household, brothers Edward and Alphonse are left in a catastrophic new reality. Ignoring the alchemical principle banning human transmutation, the boys attempted to bring their recently deceased mother back to life. Instead, they suffered brutal personal loss: Alphonse's body disintegrated while Edward lost a leg and then sacrificed an arm to keep Alphonse's soul in the physical realm by binding it to a hulking suit of armor.\",\n",
       " 'related_anime': ['Fullmetal Alchemist: Brotherhood - 4-Koma Theater',\n",
       "  'Fullmetal Alchemist: Brotherhood Specials',\n",
       "  'Fullmetal Alchemist',\n",
       "  'Fullmetal Alchemist: The Sacred Star of Milos'],\n",
       " 'characters': ['Elric, Edward',\n",
       "  'Elric, Alphonse',\n",
       "  'Mustang, Roy',\n",
       "  'Hughes, Maes',\n",
       "  'Greed',\n",
       "  'Hawkeye, Riza',\n",
       "  'Yao, Ling',\n",
       "  'Armstrong, Alex Louis',\n",
       "  'Rockbell, Winry',\n",
       "  'Armstrong, Olivier Mira'],\n",
       " 'voices': ['Park, Romi',\n",
       "  'Kugimiya, Rie',\n",
       "  'Miki, Shinichiro',\n",
       "  'Fujiwara, Keiji',\n",
       "  'Nakamura, Yuuichi',\n",
       "  'Orikasa, Fumiko',\n",
       "  'Miyano, Mamoru',\n",
       "  'Utsumi, Kenji',\n",
       "  'Takamoto, Megumi',\n",
       "  'Soumi, Youko'],\n",
       " 'staff': [['Cook, Justin', ['Producer']],\n",
       "  ['Yonai, Noritomo', ['Producer']],\n",
       "  ['Irie, Yasuhiro', ['Director', ' Episode Director', ' Storyboard']],\n",
       "  ['Mima, Masafumi', ['Sound Director']]]}"
      ]
     },
     "execution_count": 6,
     "metadata": {},
     "output_type": "execute_result"
    }
   ],
   "source": [
    "html_parser.get_total_info('../data/html_pages/article_00000.html')"
   ]
  },
  {
   "cell_type": "markdown",
   "metadata": {},
   "source": [
    "For each anime, you create an anime_i.tsv file of this structure:\n",
    "\n",
    "animeTitle \\t animeType \\t  ... \\t animeStaff"
   ]
  },
  {
   "cell_type": "markdown",
   "metadata": {},
   "source": [
    "## Solution:\n",
    "In this case we've simply runned the function ```save_tsv_info``` starting from 0 to 19123 (the total number of the pages) in order to get all the necessary.\n",
    "An example of the output of the funcion that gets the tsv is the following:"
   ]
  },
  {
   "cell_type": "code",
   "execution_count": 7,
   "metadata": {},
   "outputs": [
    {
     "name": "stdout",
     "output_type": "stream",
     "text": [
      "The header of the tsv table is the following:\n",
      "\ttitle\ttype\tepisodes\tstart_date\tend_date\tscore\tusers\tranked\tpopularity\tmembers\tsynopsis\trelated_anime\tcharacters\tvoices\tstaff\n",
      "\n",
      "The content for the 0-th page (the one of the dictionary above) is the following:\n",
      "\tFullmetal Alchemist: Brotherhood\tTV\t64\t2009-04-05 00:00:00\t2010-07-04 00:00:00\t9.16\t1622384\t1\t3\t2675906\tAfter a horrific alchemy experiment goes wrong in the Elric household, brothers Edward and Alphonse are left in a catastrophic new reality. Ignoring the alchemical principle banning human transmutation, the boys attempted to bring their recently deceased mother back to life. Instead, they suffered brutal personal loss: Alphonse's body disintegrated while Edward lost a leg and then sacrificed an arm to keep Alphonse's soul in the physical realm by binding it to a hulking suit of armor.\t['Fullmetal Alchemist: Brotherhood - 4-Koma Theater', 'Fullmetal Alchemist: Brotherhood Specials', 'Fullmetal Alchemist', 'Fullmetal Alchemist: The Sacred Star of Milos']\t['Elric, Edward', 'Elric, Alphonse', 'Mustang, Roy', 'Hughes, Maes', 'Greed', 'Hawkeye, Riza', 'Yao, Ling', 'Armstrong, Alex Louis', 'Rockbell, Winry', 'Armstrong, Olivier Mira']\t['Park, Romi', 'Kugimiya, Rie', 'Miki, Shinichiro', 'Fujiwara, Keiji', 'Nakamura, Yuuichi', 'Orikasa, Fumiko', 'Miyano, Mamoru', 'Utsumi, Kenji', 'Takamoto, Megumi', 'Soumi, Youko']\t[['Cook, Justin', ['Producer']], ['Yonai, Noritomo', ['Producer']], ['Irie, Yasuhiro', ['Director', ' Episode Director', ' Storyboard']], ['Mima, Masafumi', ['Sound Director']]]\n"
     ]
    }
   ],
   "source": [
    "header, content = html_parser.get_tsv_from_idx(0)\n",
    "print(f\"The header of the tsv table is the following:\\n\\t{header}\")\n",
    "print()\n",
    "print(f\"The content for the 0-th page (the one of the dictionary above) is the following:\\n\\t{content}\")"
   ]
  },
  {
   "cell_type": "markdown",
   "metadata": {},
   "source": [
    "## Getting the TSVs!!!"
   ]
  },
  {
   "cell_type": "code",
   "execution_count": 8,
   "metadata": {},
   "outputs": [],
   "source": [
    "# The following line is commented for safety reason, the execution will bring to an error given that the data doesn't exist in your machine\n",
    "\n",
    "#html_parser.save_tsv_info(0, 1923) # We've used the default directory for source and dest, see the code for details"
   ]
  },
  {
   "cell_type": "markdown",
   "metadata": {},
   "source": [
    "## 2. SEARCH ENGINE\n",
    "Now, we want to create two different Search Engines that, given as input a query, return the animes that match the query.\n",
    "\n",
    "First, you must pre-process all the information collected for each anime by:\n",
    "\n",
    "* Removing stopwords\n",
    "* Removing punctuation\n",
    "* Stemming\n",
    "* Anything else you think it's needed\n",
    "\n",
    "For this purpose, you can use the nltk library."
   ]
  },
  {
   "cell_type": "code",
   "execution_count": null,
   "metadata": {},
   "outputs": [],
   "source": [
    "import pandas as pd\n",
    "import string\n",
    "import json\n",
    "from operator import itemgetter\n",
    "\n",
    "from nltk.corpus import stopwords\n",
    "from nltk.tokenize import word_tokenize\n",
    "from nltk.stem import SnowballStemmer\n",
    "import nltk"
   ]
  },
  {
   "cell_type": "code",
   "execution_count": null,
   "metadata": {},
   "outputs": [],
   "source": [
    "nltk.download('punkt')\n",
    "nltk.download('stopwords')"
   ]
  },
  {
   "cell_type": "markdown",
   "metadata": {},
   "source": [
    "### 2.1. Conjunctive query\n",
    "For the first version of the search engine, we narrow our interest on the Synopsis of each anime. It means that you will evaluate queries only with respect to the anime's description."
   ]
  },
  {
   "cell_type": "code",
   "execution_count": null,
   "metadata": {},
   "outputs": [],
   "source": [
    "df = pd.read_table(\"../shared_stuff/tsv_files/0total_pages.tsv\",\n",
    "                       delimiter = \"\\t\",\n",
    "                       header = \"infer\",\n",
    "                       on_bad_lines = \"skip\") # fix line 16473"
   ]
  },
  {
   "cell_type": "markdown",
   "metadata": {},
   "source": []
  },
  {
   "cell_type": "code",
   "execution_count": null,
   "metadata": {},
   "outputs": [],
   "source": [
    "def str_to_list(s):\n",
    "    \"\"\"\n",
    "    This functions returns a list\n",
    "    with each of the characters of the input string\n",
    "    \n",
    "    Arguments\n",
    "        s : string\n",
    "        \n",
    "    Returns\n",
    "        (list)\n",
    "    \"\"\"\n",
    "    \n",
    "    return [char for char in s]\n",
    "\n",
    "def has_digits(s):\n",
    "    \"\"\"\n",
    "    This function checks whether a string\n",
    "    contains any digits\n",
    "    \n",
    "    Arguments\n",
    "        s : string\n",
    "        \n",
    "    Returns\n",
    "        (bool) True / False\n",
    "    \"\"\"\n",
    "    \n",
    "    return len([char for char in s if char.isdigit()]) != 0\n",
    "\n",
    "def bad_words():\n",
    "    \"\"\"\n",
    "    This function creates a list with words\n",
    "    that should be excluded from the vocabulary\n",
    "    during preprocessing, including punctuation,\n",
    "    stopwords et similia\n",
    "    \n",
    "    Arguments\n",
    "        none\n",
    "        \n",
    "    Returns\n",
    "        (list)\n",
    "    \"\"\"\n",
    "    \n",
    "    punct = str_to_list(string.punctuation)\n",
    "    punct += [\"...\", \"''\", \"``\", '\"\"']\n",
    "    \n",
    "    stops = stopwords.words(\"english\")\n",
    "    \n",
    "    other_suffixes = [\"'s\", \"n't\"]\n",
    "    \n",
    "    return punct + stops + other_suffixes\n",
    "\n",
    "def preprocess(text, stemmer):\n",
    "    \"\"\"\n",
    "    This function preprocesses some text (a document)\n",
    "    by isolating each word, excluding stopwords et similia,\n",
    "    and finally stemming them\n",
    "    \n",
    "    Arguments\n",
    "        text : (string)\n",
    "        stemmer : stemmer object, e.g. SnowBallStemmer()\n",
    "    \n",
    "    Returns\n",
    "        (list) preprocessed input text\n",
    "    \"\"\"\n",
    "    \n",
    "    text = str(text)\n",
    "    \n",
    "    tokens = word_tokenize(text)\n",
    "        \n",
    "    return [stemmer.stem(w) for w in tokens \n",
    "            if w not in bad_words() and not has_digits(w)]"
   ]
  },
  {
   "cell_type": "code",
   "execution_count": null,
   "metadata": {},
   "outputs": [],
   "source": [
    "stemmer = SnowballStemmer(\"english\")\n",
    "\n",
    "df['synopsis_clean'] = df.apply(lambda row: preprocess(row['synopsis'], stemmer), \n",
    "                                axis = 'columns')"
   ]
  },
  {
   "cell_type": "markdown",
   "metadata": {},
   "source": [
    "### 2.1.1) Create your index!\n",
    "Before building the index,\n",
    "\n",
    "Create a file named vocabulary, in the format you prefer, that maps each word to an integer (term_id).\n",
    "Then, the first brick of your homework is to create the Inverted Index. It will be a dictionary of this format:\n",
    "\n",
    "{\n",
    "term_id_1:[document_1, document_2, document_4],\n",
    "term_id_2:[document_1, document_3, document_5, document_6],\n",
    "...}\n",
    "where document_i is the id of a document that contains the word.\n",
    "\n",
    "Hint: Since you do not want to compute the inverted index every time you use the Search Engine, it is worth to think to store it in a separate file and load it in memory when needed."
   ]
  },
  {
   "cell_type": "code",
   "execution_count": null,
   "metadata": {},
   "outputs": [],
   "source": [
    "def create_vocab(corpus):\n",
    "    \"\"\"\n",
    "    This function creates a set of unique\n",
    "    and preprocessed words from a corpus\n",
    "    \n",
    "    Arguments\n",
    "        corpus : pandas df column or list-like\n",
    "    \n",
    "    Returns\n",
    "        vocab  : dictionary with the words as keys\n",
    "                 and a unique integer for each as values\n",
    "    \"\"\"\n",
    "    \n",
    "    vocab = set()\n",
    "    \n",
    "    for doc in corpus:\n",
    "        vocab.update(set(doc))\n",
    "\n",
    "    return {word:idx for idx, word in enumerate(vocab)}\n",
    "    \n",
    "\n",
    "def save_dict_to_file(dct, filename):\n",
    "    \"\"\"\n",
    "    This function saves a dictionary \n",
    "    to an external JSON file\n",
    "    \n",
    "    Arguments\n",
    "        dct       : dictionary\n",
    "        filename  : name of the file\n",
    "        \n",
    "    Returns\n",
    "        void\n",
    "    \"\"\"\n",
    "        \n",
    "    with open(filename, \"w\") as file:\n",
    "        json.dump(dct, file)\n",
    "        \n",
    "\n",
    "def read_dict_from_file(filename):\n",
    "    \"\"\"\n",
    "    This function reads a dictionary\n",
    "    from an external JSON file\n",
    "        \n",
    "    Arguments\n",
    "        filename : name of the file\n",
    "    \n",
    "    Returns\n",
    "        dct : dictionary with the contents of 'filename'\n",
    "    \"\"\"\n",
    "\n",
    "    with open(filename, \"r\") as file:\n",
    "        dct = json.loads(file.read())\n",
    "\n",
    "    return dct"
   ]
  },
  {
   "cell_type": "code",
   "execution_count": null,
   "metadata": {},
   "outputs": [],
   "source": [
    "# only execute this cell the first time or \n",
    "# when the preprocessing changes!\n",
    "\n",
    "vocab = create_vocab(df['synopsis_clean'])\n",
    "\n",
    "save_dict_to_file(vocab, \"vocabulary.json\")"
   ]
  },
  {
   "cell_type": "code",
   "execution_count": null,
   "metadata": {},
   "outputs": [],
   "source": [
    "vocab = read_dict_from_file(\"vocabulary.json\")"
   ]
  },
  {
   "cell_type": "code",
   "execution_count": null,
   "metadata": {},
   "outputs": [],
   "source": [
    "def create_inv_idx(corpus, vocab): \n",
    "    \"\"\"\n",
    "    This functions creates an inverted index list\n",
    "    given a corpus of documents and a vocabulary\n",
    "    \n",
    "    Arguments\n",
    "        corpus  : pandas df column or list-like\n",
    "        vocab   : dictionary of all the words in the corpus\n",
    "    \n",
    "    Returns\n",
    "        inv_idx : dictionary with the words as referenced in 'vocab' as keys \n",
    "                  and the lists of the documents each word is in as values       \n",
    "    \"\"\"\n",
    "    \n",
    "    inv_idx = {}\n",
    "    \n",
    "    for idx, word in zip(vocab.values(), vocab.keys()):\n",
    "        inv_idx[idx] = [doc_id for doc_id, doc in enumerate(corpus) if word in doc]\n",
    "    \n",
    "    return inv_idx"
   ]
  },
  {
   "cell_type": "code",
   "execution_count": null,
   "metadata": {},
   "outputs": [],
   "source": [
    "# only execute this cell the first time or \n",
    "# when the preprocessing/vocabulary change!\n",
    "\n",
    "inv_idx = create_inv_idx(df['synopsis_clean'], vocab)\n",
    "\n",
    "#save_dict_to_file(inv_idx, \"inv_idx.json\")"
   ]
  },
  {
   "cell_type": "code",
   "execution_count": null,
   "metadata": {},
   "outputs": [],
   "source": [
    "# The keys of the dict we get are str, not int like when we created it\n",
    "# I don't think it's necessary, but should we parse them when we read the json?\n",
    "inv_idx = read_dict_from_file(\"inv_idx.json\")"
   ]
  },
  {
   "cell_type": "markdown",
   "metadata": {},
   "source": [
    "### 2.1.2) Execute the query\n",
    "Given a query, that you let the user enter:\n",
    "\n",
    "saiyan race\n",
    "the Search Engine is supposed to return a list of documents.\n",
    "\n",
    "What documents do we want?\n",
    "Since we are dealing with conjunctive queries (AND), each of the returned documents should contain all the words in the query. The final output of the query must return, if present, the following information for each of the selected documents:\n",
    "\n",
    "animeTitle\n",
    "animeDescription\n",
    "Url\n",
    "Example Output:\n",
    "\n",
    "animeTitle\tanimeDescription\tUrl\n",
    "Fullmetal Alchemist: Brotherhood\t...\thttps://myanimelist.net/anime/5114/Fullmetal_Alchemist__Brotherhood\n",
    "Gintama\t...\thttps://myanimelist.net/anime/28977/Gintama%C2%B0\n",
    "Shingeki no Kyojin Season 3 Part 2\t...\thttps://myanimelist.net/anime/38524/Shingeki_no_Kyojin_Season_3_Part_2\n",
    "If everything works well in this step, you can go to the next point, and make your Search Engine more complex and better in answering queries."
   ]
  },
  {
   "cell_type": "code",
   "execution_count": null,
   "metadata": {},
   "outputs": [],
   "source": [
    "def parse_query(query, vocab):\n",
    "    \"\"\"\n",
    "    This functions converts the list of words\n",
    "    input by the user into the list of the IDs\n",
    "    the words are saved as in the vocabulary\n",
    "    \n",
    "    Arguments\n",
    "        query : list of words\n",
    "        vocab : vocabulary of words with the words as keys\n",
    "                and their IDs as values\n",
    "    Returns\n",
    "        list of the IDs of the words in the query\n",
    "    \"\"\"\n",
    "    \n",
    "    parsed_query = []\n",
    "    \n",
    "    for word in query:\n",
    "        try:\n",
    "            parsed_query.append(vocab[stemmer.stem(word)])\n",
    "        except KeyError:\n",
    "            print(f\"The term '{word}' wasn't found anywhere!\")\n",
    "    \n",
    "    return parsed_query\n",
    "\n",
    "\n",
    "def get_results(query, inv_idx):\n",
    "    \"\"\"\n",
    "    This functions finds the documents all the words\n",
    "    in the query are in.\n",
    "    \n",
    "    It finds them in three steps:\n",
    "    1. creates a list of docs each word is in from the inverted index\n",
    "    2. converts that list into a set\n",
    "    3. intersects all those sets into a single set\n",
    "       \n",
    "    Arguments\n",
    "        query : list of words as parsed by 'parse_query'\n",
    "        \n",
    "    Returns\n",
    "        set with the documents that contain all the words in the query\n",
    "    \"\"\"\n",
    "    \n",
    "    return set.intersection(*[set(inv_idx[str(q)]) for q in query])\n",
    "\n",
    "\n",
    "def get_df_entries(df, results,\n",
    "                   url_file = \"../shared_stuff/url_list.txt\"):\n",
    "    \"\"\"\n",
    "    This function filters the dataset so it only shows\n",
    "    the rows which match the results, and adds a new column\n",
    "    with the URL for the anime of each row.\n",
    "    \n",
    "    Arguments\n",
    "        df       : pandas dataframe\n",
    "        results  : set with the row indices to be filtered out\n",
    "        url_file : external file with the URLs for each of the rows in df\n",
    "    \n",
    "    Returns\n",
    "        df : filtered pandas dataframe\n",
    "    \"\"\"\n",
    "    \n",
    "    if not results:\n",
    "        print(\"No results!\")\n",
    "        return\n",
    "    \n",
    "    with open(url_file, 'r') as file:\n",
    "        url_list = file.read().split(\"\\n\")\n",
    "\n",
    "    df = df.iloc[[*results]]\n",
    "    df = df[[\"title\", \"synopsis\"]]\n",
    "    df = df.rename(columns = {\"title\": \"animeTitle\", \n",
    "                              \"synopsis\": \"animeDescription\"})\n",
    "    \n",
    "    df['animeUrl'] = itemgetter(*results)(url_list)\n",
    "    \n",
    "    return df"
   ]
  },
  {
   "cell_type": "code",
   "execution_count": null,
   "metadata": {},
   "outputs": [],
   "source": [
    "query = parse_query(input().split(), vocab)\n",
    "\n",
    "# if at least one word in the query\n",
    "# is in the vocabulary\n",
    "if query:\n",
    "    \n",
    "    results = get_results(query)\n",
    "\n",
    "    df_entries = get_df_entries(df, results)\n",
    "\n",
    "    if df_entries: \n",
    "        display(df_entries)"
   ]
  },
  {
   "cell_type": "markdown",
   "metadata": {},
   "source": [
    "### 2.2) Conjunctive query & Ranking score\n",
    "For the second search engine, given a query, we want to get the top-k (the choice of k it's up to you!) documents related to the query. In particular:\n",
    "\n",
    "* Find all the documents that contains all the words in the query.\n",
    "* Sort them by their similarity with the query.\n",
    "* Return in output k documents, or all the documents with non-zero similarity with the query when the results are less than k. You must use a heap data structure (you can use é * Python libraries) for maintaining the top-k documents.\n",
    "\n",
    "To solve this task, you will have to use the tfIdf score, and the Cosine similarity. The field to consider it is still the synopsis. Let's see how."
   ]
  },
  {
   "cell_type": "markdown",
   "metadata": {},
   "source": []
  },
  {
   "cell_type": "markdown",
   "metadata": {},
   "source": [
    "### 2.2.1) Inverted index"
   ]
  },
  {
   "cell_type": "code",
   "execution_count": null,
   "metadata": {},
   "outputs": [],
   "source": [
    "#bozza\n",
    "\n",
    "'''\n",
    "def create_inv_idx(corpus, vocab):\n",
    "    \n",
    "    inv_idx = {}\n",
    "   \n",
    "    for doc_num, doc in enumerate(corpus):\n",
    "        cnt = Counter(doc)\n",
    "        for word, idx in zip(vocab.keys(), vocab.values()):\n",
    "           inv_idx[idx] = (cnt[word])\n",
    "     \n",
    "    return inv_idx\n",
    "'''"
   ]
  },
  {
   "cell_type": "markdown",
   "metadata": {},
   "source": []
  },
  {
   "cell_type": "markdown",
   "metadata": {},
   "source": [
    "### 2.2.2) Execute the query"
   ]
  },
  {
   "cell_type": "markdown",
   "metadata": {},
   "source": []
  },
  {
   "cell_type": "markdown",
   "metadata": {},
   "source": []
  },
  {
   "cell_type": "markdown",
   "metadata": {},
   "source": [
    "## 3. DEFINE A NEW SCORE!\n",
    "\n",
    "Now it's your turn. Build a new metric to rank animes based on the queries of their users.\n",
    "\n",
    "In this scenario, a single user can give in input more information than the single textual query, so you need to take into account all this information, and think a creative and logical way on how to answer at user's requests.\n",
    "\n",
    "#### Practically:\n",
    "\n",
    "The user will enter you a text query. As a starting point, get the query-related documents by exploiting the search engine of Step 2.1.<br>\n",
    "<newline>\n",
    "\n",
    "Once you have the documents, you need to sort them according to your new score. In this step you won't have anymore to take into account just the plot of the documents, you must use the remaining variables in your dataset (or new possible variables that you can create from the existing ones...). You must use a heap data structure (you can use Python libraries) for maintaining the top-k documents.<br>\n",
    "<newline>\n",
    "\n",
    "**Q: How to sort them?** <br>\n",
    "**A: Allow the user to specify more information** that you find in the documents, and define a new metric that ranks the results based on the new request. You can also use other information regarding the anime to score some animes above others.<br>\n",
    "N.B.: You have to define a scoring function, not a filter!\n",
    "\n",
    "The output, must contain:\n",
    "\n",
    "* **animeTitle**\n",
    "* **animeDescription**\n",
    "* **Url**\n",
    "* **The new similarity score of the documents** with respect to the query\n",
    "\n",
    "\n",
    "Are the results you obtain better than with the previous scoring function. Explain and compare results"
   ]
  },
  {
   "cell_type": "markdown",
   "metadata": {},
   "source": [
    "\n",
    "## Solution\n",
    "\n",
    "The basic idea is that a user can search for the words in the synopsis in the 2.1 point, so here we want to give the possibility to the user to query the data in the points he preferes from:\n",
    "* title\n",
    "* staff\n",
    "* characters\n",
    "* voices\n",
    "* synopsis\n",
    "\n",
    "Given that the query shoudld be in the form:<br>\n",
    "\"```word1 word2 [where_to_search] word3 word4 [where_t_s2] ...```\"<br>\n",
    "and the program will return the documents that contains word1 AND word2 in the field 'where_to_search' AND contains word3 AND word4 in the field 'where_t_s2'\n",
    "<newline>\n",
    "\n",
    "Hence the idea is to create an inverted index for each of thie fields and then parse the query and obtain the document that match it.<br>\n",
    "We need to sort this document accordingly with a customized score and return for each of them the neccessarly info"
   ]
  },
  {
   "cell_type": "markdown",
   "metadata": {},
   "source": [
    "\n",
    "### Importing the data...\n",
    "Given that the file can contain data that are not so clean, we have to use some special attributes of the read_table function in order to retrieve a dataframe containing all the information of interest.<br>\n",
    "As expected. the dataframe contains exactly 19122 rows indexed from 0 to 19121"
   ]
  },
  {
   "cell_type": "code",
   "execution_count": 3,
   "metadata": {},
   "outputs": [],
   "source": [
    "import csv\n",
    "import pandas as pd \n",
    "\n",
    "def import_df(path = \"../shared_stuff/tsv_files/0total_pages.tsv\"):\n",
    "    return pd.read_table(path,\n",
    "                        delimiter = \"\\t\",\n",
    "                        header = \"infer\",quoting=csv.QUOTE_NONE, error_bad_lines=False)\n"
   ]
  },
  {
   "cell_type": "code",
   "execution_count": 4,
   "metadata": {},
   "outputs": [
    {
     "name": "stderr",
     "output_type": "stream",
     "text": [
      "<ipython-input-4-06228d5a45ed>:1: FutureWarning: The error_bad_lines argument has been deprecated and will be removed in a future version.\n",
      "\n",
      "\n",
      "  df = import_df()\n"
     ]
    },
    {
     "name": "stdout",
     "output_type": "stream",
     "text": [
      "<class 'pandas.core.frame.DataFrame'>\n",
      "RangeIndex: 19122 entries, 0 to 19121\n",
      "Data columns (total 15 columns):\n",
      " #   Column         Non-Null Count  Dtype \n",
      "---  ------         --------------  ----- \n",
      " 0   title          19122 non-null  object\n",
      " 1   type           19122 non-null  object\n",
      " 2   episodes       19122 non-null  object\n",
      " 3   start_date     19122 non-null  object\n",
      " 4   end_date       19122 non-null  object\n",
      " 5   score          19122 non-null  object\n",
      " 6   users          19122 non-null  object\n",
      " 7   ranked         19122 non-null  object\n",
      " 8   popularity     19122 non-null  int64 \n",
      " 9   members        19122 non-null  int64 \n",
      " 10  synopsis       19122 non-null  object\n",
      " 11  related_anime  19122 non-null  object\n",
      " 12  characters     19122 non-null  object\n",
      " 13  voices         19122 non-null  object\n",
      " 14  staff          19122 non-null  object\n",
      "dtypes: int64(2), object(13)\n",
      "memory usage: 2.2+ MB\n"
     ]
    }
   ],
   "source": [
    "df = import_df()\n",
    "df.info()"
   ]
  },
  {
   "cell_type": "code",
   "execution_count": 1,
   "metadata": {},
   "outputs": [],
   "source": [
    "from advanced_queryer import *\n",
    "from question_two import *"
   ]
  },
  {
   "cell_type": "code",
   "execution_count": 6,
   "metadata": {},
   "outputs": [],
   "source": [
    "import ast\n",
    "\n",
    "def preprocessing_staff(df):\n",
    "    df['str_staff']= df.apply(lambda row: ' '.join([el[0] for el in ast.literal_eval(row['staff'])]), \n",
    "                                axis = 'columns')\n",
    "    print(f\"[Staff]: Converted all the lists in strings, starting the preprocessing...\")\n",
    "    prepr_staff = df.apply(lambda row: (preprocess(row['str_staff'], SnowballStemmer('english'))), axis = 'columns')\n",
    "    return prepr_staff\n",
    "\n",
    "def preprocessing_voices(df):\n",
    "    df['str_voices'] = df.apply(lambda row: ' '.join(ast.literal_eval(row['voices'])), \n",
    "                                    axis = 'columns')\n",
    "    print(f\"[Voices]: Converted all the lists in strings, starting the preprocessing...\")\n",
    "    return df.apply(lambda row: (preprocess(row['str_voices'], SnowballStemmer('english'))), axis = 'columns')\n",
    "\n",
    "def preprocessing_characters(df):\n",
    "    df['str_characters'] = df.apply(lambda row: ' '.join(ast.literal_eval(row['characters'])), \n",
    "                                    axis = 'columns')\n",
    "    print(f\"[Characters]: Converted all the lists in strings, starting the preprocessing...\")\n",
    "    return df.apply(lambda row: (preprocess(row['str_characters'], SnowballStemmer('english'))), axis = 'columns')\n",
    "\n",
    "def preprocessing_title(df):\n",
    "    print(f\"[Title]: Starting the preprocessing...\")\n",
    "    return df.apply(lambda row: (preprocess(row['title'], SnowballStemmer('english'))), axis = 'columns')\n",
    "\n",
    "def preprocessing_synopsis(df):\n",
    "    print(f\"[Synopsis]: Starting the preprocessing...\")\n",
    "    return df.apply(lambda row: (preprocess(row['synopsis'], SnowballStemmer('english'))), axis = 'columns')"
   ]
  },
  {
   "cell_type": "code",
   "execution_count": 7,
   "metadata": {},
   "outputs": [
    {
     "name": "stdout",
     "output_type": "stream",
     "text": [
      "[Staff]: Converted all the lists in strings, starting the preprocessing...\n",
      "[Staff]: Done.\n",
      "[Voices]: Converted all the lists in strings, starting the preprocessing...\n",
      "[Voices]: Done.\n",
      "[Characters]: Converted all the lists in strings, starting the preprocessing...\n",
      "[Characters]: Done.\n",
      "[Title]: Starting the preprocessing...\n",
      "[Title]: Done.\n"
     ]
    }
   ],
   "source": [
    "'''\n",
    "Preprocessing staff,voices,characters and title\n",
    "'''\n",
    "\n",
    "\n",
    "prepr_staff = preprocessing_staff(df)\n",
    "print(\"[Staff]: Done.\")\n",
    "\n",
    "prepr_voices = preprocessing_voices(df)\n",
    "print(\"[Voices]: Done.\")\n",
    "\n",
    "prepr_characters = preprocessing_characters(df)\n",
    "print(\"[Characters]: Done.\")\n",
    "\n",
    "prepr_title = preprocessing_title(df)\n",
    "print(\"[Title]: Done.\")"
   ]
  },
  {
   "cell_type": "code",
   "execution_count": 8,
   "metadata": {},
   "outputs": [
    {
     "name": "stdout",
     "output_type": "stream",
     "text": [
      "[Staff]: Created vocabulary\n",
      "[Voices]: Created vocabulary\n",
      "[Characters]: Created vocabulary\n",
      "[Title]: Created vocabulary\n"
     ]
    }
   ],
   "source": [
    "voc_staff = create_vocab(prepr_staff)\n",
    "print(\"[Staff]: Created vocabulary\")\n",
    "\n",
    "voc_voices = create_vocab(prepr_voices)\n",
    "print(\"[Voices]: Created vocabulary\")\n",
    "\n",
    "voc_characters = create_vocab(prepr_characters)\n",
    "print(\"[Characters]: Created vocabulary\")\n",
    "\n",
    "voc_title = create_vocab(prepr_title)\n",
    "print(\"[Title]: Created vocabulary\")"
   ]
  },
  {
   "cell_type": "code",
   "execution_count": null,
   "metadata": {},
   "outputs": [],
   "source": [
    "'''\n",
    "Creation of inverted indexes of staff,voices,character and title\n",
    "'''\n",
    "\n",
    "idx_staff = create_inv_idx(prepr_staff, voc_staff)\n",
    "print(\"[Staff]: Created index\")\n",
    "\n",
    "idx_voices = create_inv_idx(prepr_voices, voc_voices)\n",
    "print(\"[Voices]: Created index\")\n",
    "\n",
    "idx_characters = create_inv_idx(prepr_characters, voc_characters)\n",
    "print(\"[Characters]: Created index\")\n",
    "\n",
    "idx_title = create_inv_idx(prepr_title, voc_title)\n",
    "print(\"[Title]: Created index\")"
   ]
  },
  {
   "cell_type": "code",
   "execution_count": null,
   "metadata": {},
   "outputs": [],
   "source": [
    "idx_dir = os.path.join('..', 'shared_stuff', 'indexes')\n",
    "staff_dir = os.path.join(idx_dir, 'staff')\n",
    "voices_dir = os.path.join(idx_dir, 'voices')\n",
    "ch_dir = os.path.join(idx_dir, 'characters')\n",
    "title_dir = os.path.join(idx_dir, 'title')\n",
    "syns_dir = os.path.join(idx_dir, 'synopsis')\n",
    "\n",
    "tot_dirs = {'staff': staff_dir, 'voices': voices_dir, 'characters': ch_dir, 'title': title_dir}\n",
    "for d in tot_dirs.values():\n",
    "    if not os.path.exists(d):\n",
    "        os.mkdir(d)\n",
    "\n"
   ]
  },
  {
   "cell_type": "code",
   "execution_count": null,
   "metadata": {},
   "outputs": [],
   "source": [
    "'''\n",
    "save all the vocabularies in the corresponding json files\n",
    "'''\n",
    "\n",
    "for p in [staff_dir, voices_dir, ch_dir, title_dir]:\n",
    "    idx = os.path.join(p, 'inv_idx.json')\n",
    "    voc = os.path.join(p, 'vocabulary.json')\n",
    "\n",
    "    if os.path.exists(idx) or os.path.join(voc):\n",
    "        var = input(f\"The directory {p} contains an index or vocabulary that will be overwritten do you want to proceed? [y/n]\")\n",
    "        if var=='y':\n",
    "            continue\n",
    "        else:\n",
    "            raise ValueError(\"Indexes existists!!!\")\n",
    "\n",
    "\n",
    "save_dict_to_file(dct=voc_staff, filename=os.path.join(staff_dir, 'vocabulary.json'))\n",
    "save_dict_to_file(dct=idx_staff, filename=os.path.join(staff_dir, 'inv_idx.json'))\n",
    "print(\"[Staff]: All saved.\")\n",
    "\n",
    "save_dict_to_file(dct=voc_voices, filename=os.path.join(voices_dir, 'vocabulary.json'))\n",
    "save_dict_to_file(dct=idx_voices, filename=os.path.join(voices_dir, 'inv_idx.json'))\n",
    "print(\"[Voices]: All saved.\")\n",
    "\n",
    "save_dict_to_file(dct=voc_characters, filename=os.path.join(ch_dir, 'vocabulary.json'))\n",
    "save_dict_to_file(dct=idx_characters, filename=os.path.join(ch_dir, 'inv_idx.json'))\n",
    "print(\"[Characters]: All saved.\")\n",
    "\n",
    "save_dict_to_file(dct=voc_title, filename=os.path.join(title_dir, 'vocabulary.json'))\n",
    "save_dict_to_file(dct=idx_title, filename=os.path.join(title_dir, 'inv_idx.json'))\n",
    "print(\"[Title]: All saved.\")"
   ]
  },
  {
   "cell_type": "markdown",
   "metadata": {},
   "source": [
    "Here we're fixing the synopsis vocabulary"
   ]
  },
  {
   "cell_type": "code",
   "execution_count": null,
   "metadata": {},
   "outputs": [],
   "source": [
    "prepr_syns = preprocessing_synopsis(df)\n",
    "print(\"[Synopsis]: Done.\")\n",
    "voc_syns = create_vocab(prepr_syns)\n",
    "print(\"[Synopsis]: Created vocabulary\")\n",
    "idx_syns = create_inv_idx(prepr_syns, voc_syns)\n",
    "print(\"[Synopsis]: Created index\")\n"
   ]
  },
  {
   "cell_type": "code",
   "execution_count": null,
   "metadata": {},
   "outputs": [],
   "source": [
    "\n",
    "\n",
    "save_dict_to_file(dct=voc_syns, filename=os.path.join(syns_dir, 'vocabulary.json'))\n",
    "save_dict_to_file(dct=idx_syns, filename=os.path.join(syns_dir, 'inv_idx.json'))\n",
    "print(\"[Synopsis]: All saved.\")"
   ]
  },
  {
   "cell_type": "code",
   "execution_count": 2,
   "metadata": {},
   "outputs": [
    {
     "name": "stdout",
     "output_type": "stream",
     "text": [
      "['dragon', '[title]', 'vegeta', '[characters]']\n",
      "{'title': [4998], 'characters': [14666]}\n"
     ]
    }
   ],
   "source": [
    "p_q = parse_advanced_query(\"dragon [title] vegeta [characters]\")\n",
    "print(p_q)"
   ]
  },
  {
   "cell_type": "markdown",
   "metadata": {},
   "source": [
    "The idea is to assign a similarity score to each documment that has all the words ewe are searching following the formula:\n",
    "\n",
    "$\\displaystyle \\sum_{i=0}^n \\frac{q_i*pi}{di} $ \n",
    "\n",
    "where:\n",
    "* $qi$= *len query in the i-th fielfd*\n",
    "* $di$= *len document in the i-th field*\n",
    "* $pi$= *weight of i-th field of he search*\n",
    "\n",
    "Obviously, fields such as title are more important than synopsis which might be a very long description: the user is able to find relevant results just by writing one word of the title or one main character.\n",
    "The score is upper-bounded by 1. Nevertheless, it is almost impossible to reach this score since the user should write all the right informations in the appropriate field.\n",
    "\n",
    "Since,commonly, the query are very short, this method assures good results.\n",
    "\n",
    "Comparing our scoring function with the previous one, they both share their range between O and 1 but tf idf scoring function reaches more easily values towards 1.\n"
   ]
  },
  {
   "cell_type": "code",
   "execution_count": 6,
   "metadata": {},
   "outputs": [
    {
     "name": "stdout",
     "output_type": "stream",
     "text": [
      "['dragon', '[title]', 'gohan', '[characters]']\n"
     ]
    },
    {
     "data": {
      "text/html": [
       "<div>\n",
       "<style scoped>\n",
       "    .dataframe tbody tr th:only-of-type {\n",
       "        vertical-align: middle;\n",
       "    }\n",
       "\n",
       "    .dataframe tbody tr th {\n",
       "        vertical-align: top;\n",
       "    }\n",
       "\n",
       "    .dataframe thead th {\n",
       "        text-align: right;\n",
       "    }\n",
       "</style>\n",
       "<table border=\"1\" class=\"dataframe\">\n",
       "  <thead>\n",
       "    <tr style=\"text-align: right;\">\n",
       "      <th></th>\n",
       "      <th>doc_id</th>\n",
       "      <th>title</th>\n",
       "      <th>description</th>\n",
       "      <th>url</th>\n",
       "      <th>score</th>\n",
       "    </tr>\n",
       "  </thead>\n",
       "  <tbody>\n",
       "    <tr>\n",
       "      <th>0</th>\n",
       "      <td>6339</td>\n",
       "      <td>Dragon Ball GT</td>\n",
       "      <td>Emperor Pilaf finally has his hands on the Bla...</td>\n",
       "      <td>https://myanimelist.net/anime/225/Dragon_Ball_...</td>\n",
       "      <td>0.243333</td>\n",
       "    </tr>\n",
       "    <tr>\n",
       "      <th>1</th>\n",
       "      <td>365</td>\n",
       "      <td>Dragon Ball Z</td>\n",
       "      <td>Five years after winning the World Martial Art...</td>\n",
       "      <td>https://myanimelist.net/anime/813/Dragon_Ball_Z\\n</td>\n",
       "      <td>0.242564</td>\n",
       "    </tr>\n",
       "    <tr>\n",
       "      <th>2</th>\n",
       "      <td>1960</td>\n",
       "      <td>Dragon Ball Super</td>\n",
       "      <td>Seven years after the events of</td>\n",
       "      <td>https://myanimelist.net/anime/30694/Dragon_Bal...</td>\n",
       "      <td>0.241905</td>\n",
       "    </tr>\n",
       "    <tr>\n",
       "      <th>3</th>\n",
       "      <td>10958</td>\n",
       "      <td>Super Dragon Ball Heroes</td>\n",
       "      <td>In May 2018, V-Jump announced a promotional an...</td>\n",
       "      <td>https://myanimelist.net/anime/37885/Super_Drag...</td>\n",
       "      <td>0.183</td>\n",
       "    </tr>\n",
       "    <tr>\n",
       "      <th>4</th>\n",
       "      <td>4796</td>\n",
       "      <td>Dragon Ball Z: Saiya-jin Zetsumetsu Keikaku</td>\n",
       "      <td>Dr. Raichii is the only Tsufurujin (the race e...</td>\n",
       "      <td>https://myanimelist.net/anime/984/Dragon_Ball_...</td>\n",
       "      <td>0.125238</td>\n",
       "    </tr>\n",
       "    <tr>\n",
       "      <th>5</th>\n",
       "      <td>6340</td>\n",
       "      <td>Dragon Ball Z: Atsumare! Gokuu World</td>\n",
       "      <td>Dragon Ball Z: Atsumare! Goku's World is a Ter...</td>\n",
       "      <td>https://myanimelist.net/anime/6714/Dragon_Ball...</td>\n",
       "      <td>0.125238</td>\n",
       "    </tr>\n",
       "    <tr>\n",
       "      <th>6</th>\n",
       "      <td>5373</td>\n",
       "      <td>Dragon Ball: Super Saiya-jin Zetsumetsu Keikaku</td>\n",
       "      <td>Remake of Dragon Ball Z: Plan to Destroy the S...</td>\n",
       "      <td>https://myanimelist.net/anime/10017/Dragon_Bal...</td>\n",
       "      <td>0.125238</td>\n",
       "    </tr>\n",
       "    <tr>\n",
       "      <th>7</th>\n",
       "      <td>5660</td>\n",
       "      <td>Dragon Ball Z: Summer Vacation Special</td>\n",
       "      <td>One peaceful afternoon, the Son family and fri...</td>\n",
       "      <td>https://myanimelist.net/anime/22695/Dragon_Bal...</td>\n",
       "      <td>0.124167</td>\n",
       "    </tr>\n",
       "    <tr>\n",
       "      <th>8</th>\n",
       "      <td>1035</td>\n",
       "      <td>Dragon Ball Kai (Dragon Ball Z Kai)</td>\n",
       "      <td>Five years after the events of Dragon Ball, ma...</td>\n",
       "      <td>https://myanimelist.net/anime/6033/Dragon_Ball...</td>\n",
       "      <td>0.109231</td>\n",
       "    </tr>\n",
       "    <tr>\n",
       "      <th>9</th>\n",
       "      <td>5048</td>\n",
       "      <td>Dragon Ball Z Movie 03: Chikyuu Marugoto Chouk...</td>\n",
       "      <td>A mysterious device crashes on planet Earth, c...</td>\n",
       "      <td>https://myanimelist.net/anime/896/Dragon_Ball_...</td>\n",
       "      <td>0.0975</td>\n",
       "    </tr>\n",
       "    <tr>\n",
       "      <th>10</th>\n",
       "      <td>2013</td>\n",
       "      <td>Dragon Ball Z Movie 14: Kami to Kami</td>\n",
       "      <td>Following the defeat of a great adversary, Gok...</td>\n",
       "      <td>https://myanimelist.net/anime/14837/Dragon_Bal...</td>\n",
       "      <td>0.0975</td>\n",
       "    </tr>\n",
       "    <tr>\n",
       "      <th>11</th>\n",
       "      <td>4337</td>\n",
       "      <td>Dragon Ball: Ossu! Kaettekita Son Gokuu to Nak...</td>\n",
       "      <td>Based on an original concept by the original a...</td>\n",
       "      <td>https://myanimelist.net/anime/5152/Dragon_Ball...</td>\n",
       "      <td>0.096731</td>\n",
       "    </tr>\n",
       "    <tr>\n",
       "      <th>12</th>\n",
       "      <td>3477</td>\n",
       "      <td>Dragon Ball Z Movie 15: Fukkatsu no \"F\"</td>\n",
       "      <td>Earth is finally peaceful again, but this calm...</td>\n",
       "      <td>https://myanimelist.net/anime/25389/Dragon_Bal...</td>\n",
       "      <td>0.096071</td>\n",
       "    </tr>\n",
       "    <tr>\n",
       "      <th>13</th>\n",
       "      <td>6089</td>\n",
       "      <td>Dragon Ball Z: Zenbu Misemasu Toshi Wasure Dra...</td>\n",
       "      <td>In this film, which is believed to take place ...</td>\n",
       "      <td>https://myanimelist.net/anime/22699/Dragon_Bal...</td>\n",
       "      <td>0.087143</td>\n",
       "    </tr>\n",
       "    <tr>\n",
       "      <th>14</th>\n",
       "      <td>2292</td>\n",
       "      <td>Dragon Ball Z Movie 08: Moetsukiro!! Nessen, R...</td>\n",
       "      <td>As Goku investigates the destruction of the So...</td>\n",
       "      <td>https://myanimelist.net/anime/901/Dragon_Ball_...</td>\n",
       "      <td>0.087009</td>\n",
       "    </tr>\n",
       "  </tbody>\n",
       "</table>\n",
       "</div>"
      ],
      "text/plain": [
       "    doc_id                                              title  \\\n",
       "0     6339                                     Dragon Ball GT   \n",
       "1      365                                      Dragon Ball Z   \n",
       "2     1960                                  Dragon Ball Super   \n",
       "3    10958                           Super Dragon Ball Heroes   \n",
       "4     4796        Dragon Ball Z: Saiya-jin Zetsumetsu Keikaku   \n",
       "5     6340               Dragon Ball Z: Atsumare! Gokuu World   \n",
       "6     5373    Dragon Ball: Super Saiya-jin Zetsumetsu Keikaku   \n",
       "7     5660             Dragon Ball Z: Summer Vacation Special   \n",
       "8     1035                Dragon Ball Kai (Dragon Ball Z Kai)   \n",
       "9     5048  Dragon Ball Z Movie 03: Chikyuu Marugoto Chouk...   \n",
       "10    2013               Dragon Ball Z Movie 14: Kami to Kami   \n",
       "11    4337  Dragon Ball: Ossu! Kaettekita Son Gokuu to Nak...   \n",
       "12    3477            Dragon Ball Z Movie 15: Fukkatsu no \"F\"   \n",
       "13    6089  Dragon Ball Z: Zenbu Misemasu Toshi Wasure Dra...   \n",
       "14    2292  Dragon Ball Z Movie 08: Moetsukiro!! Nessen, R...   \n",
       "\n",
       "                                          description  \\\n",
       "0   Emperor Pilaf finally has his hands on the Bla...   \n",
       "1   Five years after winning the World Martial Art...   \n",
       "2                    Seven years after the events of    \n",
       "3   In May 2018, V-Jump announced a promotional an...   \n",
       "4   Dr. Raichii is the only Tsufurujin (the race e...   \n",
       "5   Dragon Ball Z: Atsumare! Goku's World is a Ter...   \n",
       "6   Remake of Dragon Ball Z: Plan to Destroy the S...   \n",
       "7   One peaceful afternoon, the Son family and fri...   \n",
       "8   Five years after the events of Dragon Ball, ma...   \n",
       "9   A mysterious device crashes on planet Earth, c...   \n",
       "10  Following the defeat of a great adversary, Gok...   \n",
       "11  Based on an original concept by the original a...   \n",
       "12  Earth is finally peaceful again, but this calm...   \n",
       "13  In this film, which is believed to take place ...   \n",
       "14  As Goku investigates the destruction of the So...   \n",
       "\n",
       "                                                  url     score  \n",
       "0   https://myanimelist.net/anime/225/Dragon_Ball_...  0.243333  \n",
       "1   https://myanimelist.net/anime/813/Dragon_Ball_Z\\n  0.242564  \n",
       "2   https://myanimelist.net/anime/30694/Dragon_Bal...  0.241905  \n",
       "3   https://myanimelist.net/anime/37885/Super_Drag...     0.183  \n",
       "4   https://myanimelist.net/anime/984/Dragon_Ball_...  0.125238  \n",
       "5   https://myanimelist.net/anime/6714/Dragon_Ball...  0.125238  \n",
       "6   https://myanimelist.net/anime/10017/Dragon_Bal...  0.125238  \n",
       "7   https://myanimelist.net/anime/22695/Dragon_Bal...  0.124167  \n",
       "8   https://myanimelist.net/anime/6033/Dragon_Ball...  0.109231  \n",
       "9   https://myanimelist.net/anime/896/Dragon_Ball_...    0.0975  \n",
       "10  https://myanimelist.net/anime/14837/Dragon_Bal...    0.0975  \n",
       "11  https://myanimelist.net/anime/5152/Dragon_Ball...  0.096731  \n",
       "12  https://myanimelist.net/anime/25389/Dragon_Bal...  0.096071  \n",
       "13  https://myanimelist.net/anime/22699/Dragon_Bal...  0.087143  \n",
       "14  https://myanimelist.net/anime/901/Dragon_Ball_...  0.087009  "
      ]
     },
     "execution_count": 6,
     "metadata": {},
     "output_type": "execute_result"
    }
   ],
   "source": [
    "\n",
    "dragonball = \"dragon [title] gohan [characters]\"\n",
    "query_anime(df, dragonball, 15)"
   ]
  },
  {
   "cell_type": "markdown",
   "metadata": {},
   "source": [
    "## 5. Algorithmic question\n",
    "You consult for a personal trainer who has a back-to-back sequence of requests for appointments. A sequence of requests is of the form > 30, 40, 25, 50, 30, 20 where each number is the time that the person who makes the appointment wants to spend. You need to accept some requests, however you need a break between them, so you cannot accept two consecutive requests. For example, [30, 50, 20] is an acceptable solution (of duration 100), but [30, 40, 50, 20] is not, because 30 and 40 are two consecutive appointments. Your goal is to provide to the personal trainer a schedule that maximizes the total length of the accepted appointments. For example, in the previous instance, the optimal solution is [40, 50, 20], of total duration 110.\n",
    "\n",
    "* Write an algorithm that computes the acceptable solution with the longest possible duration.\n",
    "* Implement a program that given in input an instance in the form given above, gives the optimal solution."
   ]
  },
  {
   "cell_type": "code",
   "execution_count": 9,
   "metadata": {},
   "outputs": [],
   "source": []
  },
  {
   "cell_type": "code",
   "execution_count": null,
   "metadata": {},
   "outputs": [],
   "source": [
    "def algoritmo (array):\n",
    "    a=0\n",
    "    b=array[0]\n",
    "    for elem in array[1:]:\n",
    "        n=max(a+elem,b)\n",
    "        a=b\n",
    "        b=n\n",
    "    return b"
   ]
  },
  {
   "cell_type": "code",
   "execution_count": 10,
   "metadata": {},
   "outputs": [
    {
     "data": {
      "text/plain": [
       "64"
      ]
     },
     "execution_count": 10,
     "metadata": {},
     "output_type": "execute_result"
    }
   ],
   "source": [
    "array=[3,4,5,60,4]\n",
    "algoritmo(array)"
   ]
  },
  {
   "cell_type": "code",
   "execution_count": 11,
   "metadata": {},
   "outputs": [
    {
     "name": "stdout",
     "output_type": "stream",
     "text": [
      "200\n"
     ]
    }
   ],
   "source": [
    "caso_limite = [50, 65, 90, 60, 35, 10, 15, 25]\n",
    "print(algoritmo(caso_limite))"
   ]
  },
  {
   "cell_type": "code",
   "execution_count": 12,
   "metadata": {},
   "outputs": [
    {
     "data": {
      "text/plain": [
       "[50, 90, 35, 25]"
      ]
     },
     "execution_count": 12,
     "metadata": {},
     "output_type": "execute_result"
    }
   ],
   "source": [
    "def recursive_algo(arr):\n",
    "    if len(arr)<2:\n",
    "        return arr\n",
    "\n",
    "    return(max(recursive_algo(arr[1:]), [arr[0]] + recursive_algo(arr[2:]), key=sum))\n",
    "\n",
    "recursive_algo(caso_limite)"
   ]
  },
  {
   "cell_type": "code",
   "execution_count": 13,
   "metadata": {},
   "outputs": [
    {
     "name": "stdout",
     "output_type": "stream",
     "text": [
      "65 massimo fra 65 50 : n= 65 a= 0 b= 50\n",
      "90 massimo fra 140 65 : n= 140 a= 50 b= 65\n",
      "60 massimo fra 125 140 : n= 140 a= 65 b= 140\n",
      "35 massimo fra 175 140 : n= 175 a= 140 b= 140\n",
      "10 massimo fra 150 175 : n= 175 a= 140 b= 175\n",
      "15 massimo fra 190 175 : n= 190 a= 175 b= 175\n",
      "25 massimo fra 200 190 : n= 200 a= 175 b= 190\n",
      "[50, 65, 90, 35, 15, 25]\n"
     ]
    }
   ],
   "source": [
    "def algoritmo_leo(array):\n",
    "    a=0\n",
    "    b=array[0]\n",
    "    step=[array[0]]\n",
    "    for elem in array[1:]:\n",
    "        n=max(a+elem,b)\n",
    "        if a+elem>b:\n",
    "            step.append(elem)\n",
    "        print(elem,'massimo fra',a+elem,b,': n=',n,'a=',a,'b=',b)\n",
    "        a=b\n",
    "        b=n\n",
    "    return b,step\n",
    "\n",
    "print(algoritmo_leo(caso_limite)[1])"
   ]
  },
  {
   "cell_type": "code",
   "execution_count": 1,
   "metadata": {},
   "outputs": [],
   "source": [
    "step=[50, 65, 90, 35, 15, 25, 35]\n",
    "original=[50, 65, 90, 35, 15, 25, 35]\n",
    "\n",
    "def algoritmo_leo(array):\n",
    "    a=0\n",
    "    b=array[0]\n",
    "    step=[array[0]]\n",
    "    for elem in array[1:]:\n",
    "        n=max(a+elem,b)\n",
    "        if a+elem>b:\n",
    "            step.append(elem)\n",
    "        print(elem,'massimo fra',a+elem,b,': n=',n,'a=',a,'b=',b)\n",
    "        a=b\n",
    "        b=n\n",
    "    return b,step\n",
    "\n",
    "def filtra_ris(step,original):\n",
    "    step.reverse()\n",
    "    #print(step)\n",
    "    print('step',step)\n",
    "\n",
    "\n",
    "    ultimo=step[-1]\n",
    "    i=0\n",
    "    condizione=len(step)\n",
    "    while i<condizione:\n",
    "        print('while number',i,'step',step)\n",
    "        j=0\n",
    "        while (step[i]!=original[j]):\n",
    "            j+=1\n",
    "        if (step[i]==original[j]):\n",
    "            if (step[i+1]==original[j-1] and step[i]!=ultimo):\n",
    "                step.remove(step[i+1])\n",
    "                print(step)\n",
    "            elif(step[i]==ultimo and step[i-1]==original[j+1] ):\n",
    "                step.remove(step[i-1])\n",
    "            \n",
    "\n",
    "        condizione=len(step)\n",
    "        print('step',step)\n",
    "        i+=1\n",
    "    step.reverse() \n",
    "    return step\n",
    "\n",
    "\n",
    "def solution(array):\n",
    "    b,step=algoritmo_leo(array)\n",
    "    risultato=filtra_ris(step,array)"
   ]
  },
  {
   "cell_type": "code",
   "execution_count": null,
   "metadata": {},
   "outputs": [],
   "source": []
  }
 ],
 "metadata": {
  "interpreter": {
   "hash": "c0e40e7c7a66e87c69eaa7498d7778a1d8fa6b3e422091d0b3e8dafd8f730247"
  },
  "kernelspec": {
   "display_name": "Python 3 (ipykernel)",
   "language": "python",
   "name": "python3"
  },
  "language_info": {
   "codemirror_mode": {
    "name": "ipython",
    "version": 3
   },
   "file_extension": ".py",
   "mimetype": "text/x-python",
   "name": "python",
   "nbconvert_exporter": "python",
   "pygments_lexer": "ipython3",
   "version": "3.8.8"
  }
 },
 "nbformat": 4,
 "nbformat_minor": 4
}
