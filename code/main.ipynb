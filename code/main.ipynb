{
 "cells": [
  {
   "cell_type": "markdown",
   "metadata": {},
   "source": [
    "# HOMEWORK 3"
   ]
  },
  {
   "cell_type": "markdown",
   "metadata": {},
   "source": [
    "## 1) DATA COLLECTION"
   ]
  },
  {
   "cell_type": "markdown",
   "metadata": {},
   "source": [
    "### 1.1 Get the list of animes\n",
    "We start from the list of animes to include in your corpus of documents. In particular, we focus on the top animes ever list. From this list we want to collect the url associated to each anime in the list. The list is long and splitted in many pages. We ask you to retrieve only the urls of the animes listed in the first 400 pages (each page has 50 animes so you will end up with 20000 unique anime urls).\n",
    "\n",
    "The output of this step is a .txt file whose single line corresponds to an anime's url."
   ]
  },
  {
   "cell_type": "markdown",
   "metadata": {},
   "source": [
    "## Solution:\n",
    "The main idea is to split the work between the retrieving of the html pages (skipping the already stored urls) and the retrieving of the links in the pages.<br>\n",
    "Once we've defined a way to scrap the urls from the page, we'll iterate over 20000 to get all the pages till that number. At the time of execution the urls retrieved was only 19122, but in other execution it was even 19128, so it depends from the moment you execute that. The file was created in 5-Nov-2021 so the list refers to the content of the site in that day."
   ]
  },
  {
   "cell_type": "code",
   "execution_count": 34,
   "metadata": {},
   "outputs": [],
   "source": [
    "#import libraries\n",
    "import requests\n",
    "url = 'https://myanimelist.net/topanime.php'\n",
    "response= requests.get(url)\n",
    "from bs4 import BeautifulSoup"
   ]
  },
  {
   "cell_type": "code",
   "execution_count": 35,
   "metadata": {},
   "outputs": [],
   "source": [
    "def get_links_from_soup(soup):\n",
    "    ''' \n",
    "        Given a BeautifulSoup object the functions iterates over all the links in the table rows in the corrisponding page.\n",
    "        The functions also returns the list containing all the destination (href) of these links\n",
    "    '''\n",
    "    anime = []\n",
    "    for tag in soup.find_all('tr'):\n",
    "        links = tag.find_all('a')\n",
    "        for link in links:\n",
    "            # checking if there is a content in the link\n",
    "            if type(link.get('id')) == str and len(link.contents[0]) > 1:\n",
    "                anime.append((link.contents[0], link.get('href')))\n",
    "    return anime"
   ]
  },
  {
   "cell_type": "markdown",
   "metadata": {},
   "source": [
    "Do not execute the following three cells!!"
   ]
  },
  {
   "cell_type": "code",
   "execution_count": 36,
   "metadata": {},
   "outputs": [],
   "source": [
    "tot_list= []\n",
    "for lim in range(0, 20000, 50):\n",
    "    \n",
    "    # The principal page of animelis, so: https://myanimelist.net/topanime.php\n",
    "    if lim==0:\n",
    "        new_url = url\n",
    "    else: # we've to skio the first lim elements\n",
    "        new_url = url+'?limit='+str(lim)\n",
    "    response = requests.get(new_url)\n",
    "    soup = BeautifulSoup(response.text, 'html.parser')\n",
    "    tot_list += get_links_from_soup(soup)"
   ]
  },
  {
   "cell_type": "code",
   "execution_count": 129,
   "metadata": {},
   "outputs": [
    {
     "data": {
      "text/plain": [
       "19123"
      ]
     },
     "execution_count": 129,
     "metadata": {},
     "output_type": "execute_result"
    }
   ],
   "source": [
    "len(tot_list)"
   ]
  },
  {
   "cell_type": "code",
   "execution_count": 39,
   "metadata": {},
   "outputs": [],
   "source": [
    "with open('out.txt', 'w') as f:\n",
    "    for n, link in tot_list:\n",
    "        f.write(link+'\\n')"
   ]
  },
  {
   "cell_type": "markdown",
   "metadata": {},
   "source": [
    "### 1.2. Crawl animes\n",
    "Once you get all the urls in the first 400 pages of the list, you:\n",
    "\n",
    "* Download the html corresponding to each of the collected urls.\n",
    "* After you collect a single page, immediately save its html in a file. In this way, if your program stops, for any reason, you will not lose the data collected up to the * * * stopping point. More details in Important (2).\n",
    "* Organize the entire set of downloaded html pages into folders. Each folder will contain the htmls of the animes in page 1, page 2, ... of the list of animes."
   ]
  },
  {
   "cell_type": "markdown",
   "metadata": {},
   "source": [
    "**Important**\n",
    "\n",
    "Due to the large amount of pages you need to download, follow the next tips that will help you speeding up several time-consuming operations.\n",
    "\n",
    "[Save time downloading files] You are asked to crawl a considerable number of pages, which will take plenty of time. To speed up the operation, we suggest you to work in parallel with your group's colleagues or even generate code that works in parallel with all the CPUs available in your computer. In particular, using the same code, each component of the group can be in charge of downloading a subset of pages (e.g., the first 100). PAY ATTENTION: Once obtained all the pages, merge your results into an unique dataset. In fact, the search engine must look up for results in the whole set of documents.\n",
    "\n",
    "[Save your data] It is not nice to restart a crawling procedure, given its runtime. For this reason, it is extremely important that for every time you crawl a page, you must save it with the name article_i.html, where i corresponds to the number of articles you have already downloaded. In such way, if something goes bad, you can restart your crawling procedure from the i+1-th document."
   ]
  },
  {
   "cell_type": "markdown",
   "metadata": {},
   "source": [
    "## Solution:\n",
    "Once the website has to protect itself, it will block our requests if they are too much, so i've looked first if there's an error and, in that case, the program stops for a random range of time.<br>\n",
    "In this way we've collected only cleaned pages (not the one containing the error button).<br>\n",
    "The program (that can be found in the [downloder.py](downloader.py) file) has not been run by this notebook, but we've made a CLI version in order to run it from the terminal in how many terminal you want in order to work in parallel.<br>\n",
    "The specification of that function can be retrieved in that file and even launching it from terminal with the ```--h``` flag only to see the documentation and the usage."
   ]
  },
  {
   "cell_type": "markdown",
   "metadata": {},
   "source": [
    "### 1.3 Parse downloaded pages\n",
    "At this point, you should have all the html documents about the animes of interest and you can start to extract the animes informations. The list of information we desire for each anime and their format is the following:\n",
    "\n",
    "* **Anime Name** (to save as animeTitle): *String*\n",
    "* **Anime Type** (to save as animeType): *String*\n",
    "* **Number of episode** (to save as animeNumEpisode): *Integer*\n",
    "* **Release and End Dates of anime** (to save as releaseDate and endDate): Convert both release and end date into *datetime format*.\n",
    "* **Number of members** (to save as animeNumMembers): *Integer*\n",
    "* **Score** (to save as animeScore): *Float*\n",
    "* **Users** (to save as animeUsers): *Integer*\n",
    "* **Rank** (to save as animeRank): *Integer*\n",
    "* **Popularity** (to save as animePopularity): *Integer*\n",
    "* **Synopsis** (to save as animeDescription): *String*\n",
    "* **Related Anime** (to save as animeRelated): Extract all the related animes, but only keep unique values and those that have a hyperlink associated to them. *List of strings*.\n",
    "* **Characters** (to save as animeCharacters): *List of strings*\n",
    "* **Voices** (to save as animeVoices): *List of strings*\n",
    "* **Staff** (to save as animeStaff): Include the staff name and their responsibility/task in a *list of lists*."
   ]
  },
  {
   "cell_type": "code",
   "execution_count": 1,
   "metadata": {},
   "outputs": [],
   "source": [
    "import html_parser"
   ]
  },
  {
   "cell_type": "markdown",
   "metadata": {},
   "source": [
    "## Solution:\n",
    "\n",
    "All the needed functions are in the [html_parser.py](./html_parser.py) file that contains the relative comments and documentation too.\n",
    "The only function that has to be called to entirely solve this point is the ```save_tsv_info``` function.<br>\n",
    "Even if the function that will be called in order to get all the needed data in the tsv format is only one, the function implemented are several and more or less they are grouped in three category:\n",
    "* support function (to obtain a BeautifulSoup object from the html o to retrieve the datetime format from a string)\n",
    "* webscraping function: They are the core of this implementation, all of them takes as parameter a BeautifulSoup object and a dictionary and their purpouse is to put into this dictionary as much information as possible starting from the object in input\n",
    "* applicative function: They allow to directly obtain the data from a file o an index employing the other functions (i.e. ```save_tsv_info```)\n",
    "\n",
    "### Webscraping:\n",
    "In order to retrieve the 13 required fields we need first of all to study the structure of the page.<br>\n",
    "In general the title is simple to retrieve using bs.<br>\n",
    "The page, in general is structured as a series of nested tables, so we have a huge table with two columns, one for the left menu that contains all the info relatives to the score, the type of the serie, the ranking and so on and the other is the real body of the page, containing the synopsis, the related animes and other required fields.<br>\n",
    "<newline>\n",
    "Considering that, we have written a function called ```get_left_attributes``` that retrieves the values for the fields:\n",
    "* episodes\n",
    "* start_date\n",
    "* end_date\n",
    "* score\n",
    "* users\n",
    "* rank\n",
    "* members\n",
    "* popularity\n",
    "* type\n",
    "These fields are all in one div for each one and this div has the class equal to '*spaceit_pad*', then we have as content of this div a list of values in the form (at exception of the score) ```['\\n', name_of_the_value, value]``` then value has to be processed in order to extract the date or the integer and so on.<br>\n",
    "<newline>\n",
    "\n",
    "The remaining values can be found in the right column of the huge table inside different divs or subtables.<br>\n",
    "<newline>\n",
    "\n",
    "#### Synopsis<br>\n",
    "Can be found simply in a paragraph with the attribute '*itemprop*' equal to 'description'<br>\n",
    "#### Related animes<br>\n",
    "They are inside a dedicated table with class '*anime_detail_related_anime*', in particular we want only the animes for which exists a link, so we'll iterate over all the links in that table and we'll take the different contents returning the unique values\n",
    "#### Top reviews<br>\n",
    "The reviews which are visible on the main page of an anime are all inside a div with class name '*spaceit textReadability word-break pt8 mt8*', so we will iterate over each of those divs and collect the contents of each (the review)\n",
    "#### Staff<br>\n",
    "In this case (as for the next) the function will work directly on a specific div (the divs that has the class '*detail-characters-list clearfix*')<br>\n",
    "Given that div we have all the names that we need as content of links so we'll simply iterate over it and collect the data of interest\n",
    "#### Characters and voices<br>\n",
    "This div has the same class of the above one, so if we have only one of the two we can distinguish them by the content of an h3 element of the class '*h3_characters_voice_actors*'.<br>\n",
    "Starting from this div we have other two div in order to split the list in two columns, these divs contains a list of tables, each of them contains only one row and three columns, one for the images of the characters, one for the name of the characters and the third for the voice, so we'll iterate over the row elements and selecting only the second two columns.<br>\n",
    "From the first and the second we'll get the link element containing the name either of the character or for the voice.\n",
    "#### Putting all together<br>\n",
    "It's done with a function that uses each of these subfunction in order to retrieve, given an html page, the content of interest in a dictionary\n",
    "<newline>\n",
    "\n",
    "Once we can obtain a dictionary with the data of interest converting and saving it in a tsv file is trivial and it's done by ad-hoc functions. All this work is encapsulated in the funciton ```save_tsv_info``` that takes the ranges of the page for which we that we want to save the scraped tsv, the base directory where these page are stored and the destination directory over which the outputs will be stored."
   ]
  },
  {
   "cell_type": "code",
   "execution_count": null,
   "metadata": {},
   "outputs": [
    {
     "data": {
      "text/plain": [
       "{'title': 'Fullmetal Alchemist: Brotherhood',\n",
       " 'type': 'TV',\n",
       " 'episodes': 64,\n",
       " 'start_date': datetime.datetime(2009, 4, 5, 0, 0),\n",
       " 'end_date': datetime.datetime(2010, 7, 4, 0, 0),\n",
       " 'score': 9.16,\n",
       " 'users': 1622384,\n",
       " 'ranked': 1,\n",
       " 'popularity': 3,\n",
       " 'members': 2675906,\n",
       " 'synopsis': \"After a horrific alchemy experiment goes wrong in the Elric household, brothers Edward and Alphonse are left in a catastrophic new reality. Ignoring the alchemical principle banning human transmutation, the boys attempted to bring their recently deceased mother back to life. Instead, they suffered brutal personal loss: Alphonse's body disintegrated while Edward lost a leg and then sacrificed an arm to keep Alphonse's soul in the physical realm by binding it to a hulking suit of armor.\",\n",
       " 'related_anime': ['Fullmetal Alchemist: Brotherhood - 4-Koma Theater',\n",
       "  'Fullmetal Alchemist: Brotherhood Specials',\n",
       "  'Fullmetal Alchemist',\n",
       "  'Fullmetal Alchemist: The Sacred Star of Milos'],\n",
       " 'characters': ['Elric, Edward',\n",
       "  'Elric, Alphonse',\n",
       "  'Mustang, Roy',\n",
       "  'Hughes, Maes',\n",
       "  'Greed',\n",
       "  'Hawkeye, Riza',\n",
       "  'Yao, Ling',\n",
       "  'Armstrong, Alex Louis',\n",
       "  'Rockbell, Winry',\n",
       "  'Armstrong, Olivier Mira'],\n",
       " 'voices': ['Park, Romi',\n",
       "  'Kugimiya, Rie',\n",
       "  'Miki, Shinichiro',\n",
       "  'Fujiwara, Keiji',\n",
       "  'Nakamura, Yuuichi',\n",
       "  'Orikasa, Fumiko',\n",
       "  'Miyano, Mamoru',\n",
       "  'Utsumi, Kenji',\n",
       "  'Takamoto, Megumi',\n",
       "  'Soumi, Youko'],\n",
       " 'staff': [['Cook, Justin', ['Producer']],\n",
       "  ['Yonai, Noritomo', ['Producer']],\n",
       "  ['Irie, Yasuhiro', ['Director', ' Episode Director', ' Storyboard']],\n",
       "  ['Mima, Masafumi', ['Sound Director']]]}"
      ]
     },
     "metadata": {},
     "output_type": "display_data"
    }
   ],
   "source": [
    "html_parser.get_total_info('../data/html_pages/article_00000.html')"
   ]
  },
  {
   "cell_type": "markdown",
   "metadata": {},
   "source": [
    "For each anime, you create an anime_i.tsv file of this structure:\n",
    "\n",
    "animeTitle \\t animeType \\t  ... \\t animeStaff"
   ]
  },
  {
   "cell_type": "markdown",
   "metadata": {},
   "source": [
    "## Solution:\n",
    "In this case we've simply runned the function ```save_tsv_info``` starting from 0 to 19123 (the total number of the pages) in order to get all the necessary.\n",
    "An example of the output of the funcion that gets the tsv is the following:"
   ]
  },
  {
   "cell_type": "code",
   "execution_count": null,
   "metadata": {},
   "outputs": [
    {
     "name": "stdout",
     "output_type": "stream",
     "text": [
      "The header of the tsv table is the following:\n",
      "\ttitle\ttype\tepisodes\tstart_date\tend_date\tscore\tusers\tranked\tpopularity\tmembers\tsynopsis\trelated_anime\tcharacters\tvoices\tstaff\n",
      "\n",
      "The content for the 0-th page (the one of the dictionary above) is the following:\n",
      "\tFullmetal Alchemist: Brotherhood\tTV\t64\t2009-04-05 00:00:00\t2010-07-04 00:00:00\t9.16\t1622384\t1\t3\t2675906\tAfter a horrific alchemy experiment goes wrong in the Elric household, brothers Edward and Alphonse are left in a catastrophic new reality. Ignoring the alchemical principle banning human transmutation, the boys attempted to bring their recently deceased mother back to life. Instead, they suffered brutal personal loss: Alphonse's body disintegrated while Edward lost a leg and then sacrificed an arm to keep Alphonse's soul in the physical realm by binding it to a hulking suit of armor.\t['Fullmetal Alchemist: Brotherhood - 4-Koma Theater', 'Fullmetal Alchemist: Brotherhood Specials', 'Fullmetal Alchemist', 'Fullmetal Alchemist: The Sacred Star of Milos']\t['Elric, Edward', 'Elric, Alphonse', 'Mustang, Roy', 'Hughes, Maes', 'Greed', 'Hawkeye, Riza', 'Yao, Ling', 'Armstrong, Alex Louis', 'Rockbell, Winry', 'Armstrong, Olivier Mira']\t['Park, Romi', 'Kugimiya, Rie', 'Miki, Shinichiro', 'Fujiwara, Keiji', 'Nakamura, Yuuichi', 'Orikasa, Fumiko', 'Miyano, Mamoru', 'Utsumi, Kenji', 'Takamoto, Megumi', 'Soumi, Youko']\t[['Cook, Justin', ['Producer']], ['Yonai, Noritomo', ['Producer']], ['Irie, Yasuhiro', ['Director', ' Episode Director', ' Storyboard']], ['Mima, Masafumi', ['Sound Director']]]\n"
     ]
    }
   ],
   "source": [
    "header, content = html_parser.get_tsv_from_idx(0)\n",
    "print(f\"The header of the tsv table is the following:\\n\\t{header}\")\n",
    "print()\n",
    "print(f\"The content for the 0-th page (the one of the dictionary above) is the following:\\n\\t{content}\")"
   ]
  },
  {
   "cell_type": "markdown",
   "metadata": {},
   "source": [
    "## Getting the TSVs!!!\n",
    "Do NOT run the cell below!"
   ]
  },
  {
   "cell_type": "code",
   "execution_count": null,
   "metadata": {},
   "outputs": [],
   "source": [
    "html_parser.save_tsv_info(0, 19124) # We've used the default directory for source and dest, see the code for details"
   ]
  },
  {
   "cell_type": "markdown",
   "metadata": {},
   "source": [
    "## 2. SEARCH ENGINE\n",
    "Let's create two simple search engines which – given as input a query – will return the animes which match the query.\n",
    "\n",
    "We will start by importing the libraries we will need, notably `nltk` and a custom module `search_eng.py` where we defined the functions we will use."
   ]
  },
  {
   "cell_type": "code",
   "execution_count": 56,
   "metadata": {},
   "outputs": [
    {
     "name": "stderr",
     "output_type": "stream",
     "text": [
      "[nltk_data] Downloading package punkt to /Users/edoardo/nltk_data...\n",
      "[nltk_data]   Package punkt is already up-to-date!\n",
      "[nltk_data] Downloading package stopwords to\n",
      "[nltk_data]     /Users/edoardo/nltk_data...\n",
      "[nltk_data]   Package stopwords is already up-to-date!\n"
     ]
    },
    {
     "data": {
      "text/plain": [
       "True"
      ]
     },
     "execution_count": 56,
     "metadata": {},
     "output_type": "execute_result"
    }
   ],
   "source": [
    "import pandas as pd\n",
    "import csv\n",
    "\n",
    "import search_eng\n",
    "\n",
    "import nltk\n",
    "from nltk.stem import SnowballStemmer\n",
    "\n",
    "nltk.download('punkt')\n",
    "nltk.download('stopwords')"
   ]
  },
  {
   "cell_type": "markdown",
   "metadata": {},
   "source": [
    "### 2.1. Conjunctive query\n",
    "Let's first import the dataset we scraped earlier as a `pandas` dataframe.\n",
    "\n",
    "Given that the file can contain data that are not so clean, we have to use some special attributes of the read_table function in order to retrieve a dataframe containing all the information of interest.\n",
    "\n",
    "As expected, the dataframe contains exactly 19123 rows indexed from 0 to 19122"
   ]
  },
  {
   "cell_type": "code",
   "execution_count": 3,
   "metadata": {},
   "outputs": [
    {
     "name": "stderr",
     "output_type": "stream",
     "text": [
      "/anaconda3/lib/python3.7/site-packages/IPython/core/interactiveshell.py:3441: FutureWarning: The error_bad_lines argument has been deprecated and will be removed in a future version.\n",
      "\n",
      "\n",
      "  exec(code_obj, self.user_global_ns, self.user_ns)\n"
     ]
    },
    {
     "name": "stdout",
     "output_type": "stream",
     "text": [
      "<class 'pandas.core.frame.DataFrame'>\n",
      "RangeIndex: 19123 entries, 0 to 19122\n",
      "Data columns (total 16 columns):\n",
      " #   Column         Non-Null Count  Dtype  \n",
      "---  ------         --------------  -----  \n",
      " 0   title          19123 non-null  object \n",
      " 1   type           19123 non-null  object \n",
      " 2   episodes       19123 non-null  object \n",
      " 3   start_date     19123 non-null  object \n",
      " 4   end_date       19123 non-null  object \n",
      " 5   score          19123 non-null  object \n",
      " 6   users          19122 non-null  object \n",
      " 7   ranked         19122 non-null  object \n",
      " 8   popularity     19122 non-null  float64\n",
      " 9   members        19122 non-null  float64\n",
      " 10  synopsis       19122 non-null  object \n",
      " 11  related_anime  19121 non-null  object \n",
      " 12  characters     19121 non-null  object \n",
      " 13  voices         19121 non-null  object \n",
      " 14  staff          19121 non-null  object \n",
      " 15  top_reviews    19121 non-null  object \n",
      "dtypes: float64(2), object(14)\n",
      "memory usage: 2.3+ MB\n"
     ]
    }
   ],
   "source": [
    "def import_df(path = \"../data/tsv_files/total_pages.tsv\"):\n",
    "    return pd.read_table(path,\n",
    "                         delimiter = \"\\t\",\n",
    "                         header = \"infer\",\n",
    "                         quoting = csv.QUOTE_NONE, \n",
    "                         error_bad_lines = False)\n",
    "\n",
    "df = import_df()\n",
    "df.info()"
   ]
  },
  {
   "cell_type": "markdown",
   "metadata": {},
   "source": [
    "In order to be indexed, all the synopses must first be preprocessed; this includes tokenizing the whole synopsis, then removing stopwords, punctuations et similia, and finally stemming the words, using NLTK's SnowballStemmer.\n",
    "\n",
    "We will put the preprocessed synopsises into a new `df` column."
   ]
  },
  {
   "cell_type": "code",
   "execution_count": 4,
   "metadata": {},
   "outputs": [],
   "source": [
    "stemmer = SnowballStemmer(\"english\")\n",
    "\n",
    "df['synopsis_clean'] = df.apply(lambda row: search_eng.preprocess(row['synopsis'], stemmer), \n",
    "                                axis = 'columns')"
   ]
  },
  {
   "cell_type": "markdown",
   "metadata": {
    "tags": []
   },
   "source": [
    "### 2.1.1) Create your index!\n",
    "We won't look for the query directly into the dataframe. Instead, we will create a vocabulary of all the words we just obtained from the preprocessing, where each of the word is labelled with a unique number.\n",
    "\n",
    "The vocabulary is a dictionary with a structure like this:\n",
    "\n",
    "```\n",
    "{\n",
    "    word_1: word_id_1,\n",
    "    word_2: word_id_2,\n",
    "    ...\n",
    "}\n",
    "```"
   ]
  },
  {
   "cell_type": "code",
   "execution_count": 9,
   "metadata": {},
   "outputs": [],
   "source": [
    "# only execute this cell the first time or \n",
    "# when the preprocessing changes!\n",
    "\n",
    "vocab = search_eng.create_vocab(df['synopsis_clean'])\n",
    "\n",
    "search_eng.save_dict_to_file(vocab, \n",
    "                             \"../shared_stuff/indexes/synopsis/vocabulary.json\")"
   ]
  },
  {
   "cell_type": "markdown",
   "metadata": {},
   "source": [
    "Let's import the vocabulary we created"
   ]
  },
  {
   "cell_type": "code",
   "execution_count": 114,
   "metadata": {},
   "outputs": [],
   "source": [
    "vocab = search_eng.read_dict_from_file(\"../shared_stuff/indexes/synopsis/vocabulary.json\")"
   ]
  },
  {
   "cell_type": "markdown",
   "metadata": {},
   "source": [
    "We will use the vocabulary to create an Inverted Index, a dictionary where the words (i.e. the numbers assigned to them in the vocabulary) are the keys and the list of the documents they are in are the values.\n",
    "\n",
    "In short, it will have a structure like this:\n",
    "\n",
    "```\n",
    "{\n",
    "    term_id_1: [document_1, document_2, document_4],\n",
    "    term_id_2: [document_1, document_3, document_5, document_6],\n",
    "    ...\n",
    "}\n",
    "```\n",
    "\n",
    "where `term_id_i` is the number given to the word in the vocabulary and `document_i` is the ID of the document that contains the word."
   ]
  },
  {
   "cell_type": "code",
   "execution_count": 11,
   "metadata": {},
   "outputs": [],
   "source": [
    "# only execute this cell the first time or \n",
    "# when the preprocessing/vocabulary change!\n",
    "\n",
    "inv_idx = search_eng.create_inv_idx(df['synopsis_clean'], vocab)\n",
    "\n",
    "search_eng.save_dict_to_file(inv_idx, \n",
    "                             \"../shared_stuff/indexes/synopsis/inv_idx.json\")"
   ]
  },
  {
   "cell_type": "markdown",
   "metadata": {},
   "source": [
    "Let's import the Inverted Index"
   ]
  },
  {
   "cell_type": "code",
   "execution_count": 113,
   "metadata": {},
   "outputs": [],
   "source": [
    "inv_idx = search_eng.read_dict_from_file(\"../shared_stuff/indexes/synopsis/inv_idx.json\")"
   ]
  },
  {
   "cell_type": "markdown",
   "metadata": {},
   "source": [
    "### 2.1.2) Execute the query\n",
    "We can finally execute the query leveraging the Inverted Index we created.\n",
    "\n",
    "Since it's a conjunctive query (AND), the results – if any – will be the animes whose synopsis contains **all** the terms in the query.\n",
    "\n",
    "If the search is successful (at least one result), the function `get_df_entries` will print out a table with the titles of the animes that were found, their synopsis and the URLs to their respective MyAnimeList pages."
   ]
  },
  {
   "cell_type": "code",
   "execution_count": 82,
   "metadata": {},
   "outputs": [
    {
     "name": "stdin",
     "output_type": "stream",
     "text": [
      " volleyball high school tournament\n"
     ]
    },
    {
     "data": {
      "text/html": [
       "<div>\n",
       "<style scoped>\n",
       "    .dataframe tbody tr th:only-of-type {\n",
       "        vertical-align: middle;\n",
       "    }\n",
       "\n",
       "    .dataframe tbody tr th {\n",
       "        vertical-align: top;\n",
       "    }\n",
       "\n",
       "    .dataframe thead th {\n",
       "        text-align: right;\n",
       "    }\n",
       "</style>\n",
       "<table border=\"1\" class=\"dataframe\">\n",
       "  <thead>\n",
       "    <tr style=\"text-align: right;\">\n",
       "      <th></th>\n",
       "      <th>animeTitle</th>\n",
       "      <th>animeDescription</th>\n",
       "      <th>animeUrl</th>\n",
       "    </tr>\n",
       "  </thead>\n",
       "  <tbody>\n",
       "    <tr>\n",
       "      <th>819</th>\n",
       "      <td>Haikyuu!!: Riku vs. Kuu</td>\n",
       "      <td>An intense battle rages on at the Tokyo Qualif...</td>\n",
       "      <td>https://myanimelist.net/anime/40262/Haikyuu__R...</td>\n",
       "    </tr>\n",
       "    <tr>\n",
       "      <th>124</th>\n",
       "      <td>Haikyuu!! (Haikyu!!)</td>\n",
       "      <td>Inspired after watching a volleyball ace nickn...</td>\n",
       "      <td>https://myanimelist.net/anime/20583/Haikyuu</td>\n",
       "    </tr>\n",
       "    <tr>\n",
       "      <th>53</th>\n",
       "      <td>Haikyuu!! Second Season (Haikyu!! 2nd Season)</td>\n",
       "      <td>Following their participation at the Inter-Hig...</td>\n",
       "      <td>https://myanimelist.net/anime/28891/Haikyuu_Se...</td>\n",
       "    </tr>\n",
       "    <tr>\n",
       "      <th>13334</th>\n",
       "      <td>Shoujo Fight: Norainu-tachi no Odekake</td>\n",
       "      <td>The story follows Neri Ooishi, a high school g...</td>\n",
       "      <td>https://myanimelist.net/anime/7092/Shoujo_Figh...</td>\n",
       "    </tr>\n",
       "  </tbody>\n",
       "</table>\n",
       "</div>"
      ],
      "text/plain": [
       "                                          animeTitle  \\\n",
       "819                          Haikyuu!!: Riku vs. Kuu   \n",
       "124                             Haikyuu!! (Haikyu!!)   \n",
       "53     Haikyuu!! Second Season (Haikyu!! 2nd Season)   \n",
       "13334         Shoujo Fight: Norainu-tachi no Odekake   \n",
       "\n",
       "                                        animeDescription  \\\n",
       "819    An intense battle rages on at the Tokyo Qualif...   \n",
       "124    Inspired after watching a volleyball ace nickn...   \n",
       "53     Following their participation at the Inter-Hig...   \n",
       "13334  The story follows Neri Ooishi, a high school g...   \n",
       "\n",
       "                                                animeUrl  \n",
       "819    https://myanimelist.net/anime/40262/Haikyuu__R...  \n",
       "124          https://myanimelist.net/anime/20583/Haikyuu  \n",
       "53     https://myanimelist.net/anime/28891/Haikyuu_Se...  \n",
       "13334  https://myanimelist.net/anime/7092/Shoujo_Figh...  "
      ]
     },
     "metadata": {},
     "output_type": "display_data"
    }
   ],
   "source": [
    "query = search_eng.parse_query(input().split(), vocab, stemmer)\n",
    "\n",
    "# if at least one word in the query\n",
    "# is in the vocabulary\n",
    "if query:\n",
    "    \n",
    "    results = search_eng.get_results(query, inv_idx)\n",
    "\n",
    "    df_entries = search_eng.get_df_entries(df, results)\n",
    "\n",
    "    if df_entries.size != 0: \n",
    "        display(df_entries)"
   ]
  },
  {
   "cell_type": "markdown",
   "metadata": {},
   "source": [
    "### 2.2) Conjunctive query & Ranking score\n",
    "For the second search engine, given a query, we want to get the top-k documents related to the query, by sorting them by their similarity with the query.\n",
    "\n",
    "In order to do so, we will use a heap data structure leveraging the `heapq` module, and will define functions that compute the tfIdf score of a document and compute the Cosine similarity as the scoring function."
   ]
  },
  {
   "cell_type": "markdown",
   "metadata": {},
   "source": [
    "### 2.2.1) Inverted index"
   ]
  },
  {
   "cell_type": "markdown",
   "metadata": {},
   "source": [
    "We need to create and store a new Inverted Index where each document is coupled in a tuple with its tfIdf score:\n",
    "\n",
    "```\n",
    "{\n",
    "    term_id_1:[(document1, tfIdf_{term,document1}), (document2, tfIdf_{term,document2}), (document4, tfIdf_{term,document4}), ...],\n",
    "    term_id_2:[(document1, tfIdf_{term,document1}), (document3, tfIdf_{term,document3}), (document5, tfIdf_{term,document5}), (document6, tfIdf_{term,document6}), ...],\n",
    "    ...\n",
    "}\n",
    "```"
   ]
  },
  {
   "cell_type": "code",
   "execution_count": 124,
   "metadata": {},
   "outputs": [],
   "source": [
    "# only execute this cell the first time or \n",
    "# when the preprocessing changes!\n",
    "\n",
    "inv_idx, idf = search_eng.create_inv_idx2(df['synopsis_clean'], vocab)\n",
    "search_eng.save_dict_to_file(inv_idx, \"../shared_stuff/indexes/synopsis/inv_idx_tfldf.json\")\n",
    "\n",
    "# let's save idf too, as they are invariant and we will need them for query\n",
    "search_eng.save_dict_to_file(idf, \"../shared_stuff/indexes/synopsis/idf.json\")"
   ]
  },
  {
   "cell_type": "markdown",
   "metadata": {},
   "source": [
    "Let's import the Inverted Index and the idf scores"
   ]
  },
  {
   "cell_type": "code",
   "execution_count": 125,
   "metadata": {},
   "outputs": [],
   "source": [
    "inv_idx = search_eng.read_dict_from_file(\"../shared_stuff/indexes/synopsis/inv_idx_tfldf.json\")\n",
    "\n",
    "idf = search_eng.read_dict_from_file(\"../shared_stuff/indexes/synopsis/idf.json\")"
   ]
  },
  {
   "cell_type": "markdown",
   "metadata": {},
   "source": [
    "### 2.2.2) Execute the query"
   ]
  },
  {
   "cell_type": "markdown",
   "metadata": {},
   "source": [
    "Let's find the top $k = 10$ animes that match the query (i.e. whose synopsis contains all terms in the query) with the largest similarity (a float between 0 and 1)."
   ]
  },
  {
   "cell_type": "code",
   "execution_count": 128,
   "metadata": {},
   "outputs": [
    {
     "name": "stdin",
     "output_type": "stream",
     "text": [
      " volleyball high school tournament\n"
     ]
    },
    {
     "data": {
      "text/html": [
       "<div>\n",
       "<style scoped>\n",
       "    .dataframe tbody tr th:only-of-type {\n",
       "        vertical-align: middle;\n",
       "    }\n",
       "\n",
       "    .dataframe tbody tr th {\n",
       "        vertical-align: top;\n",
       "    }\n",
       "\n",
       "    .dataframe thead th {\n",
       "        text-align: right;\n",
       "    }\n",
       "</style>\n",
       "<table border=\"1\" class=\"dataframe\">\n",
       "  <thead>\n",
       "    <tr style=\"text-align: right;\">\n",
       "      <th></th>\n",
       "      <th>animeTitle</th>\n",
       "      <th>animeDescription</th>\n",
       "      <th>animeUrl</th>\n",
       "      <th>Similarity</th>\n",
       "    </tr>\n",
       "  </thead>\n",
       "  <tbody>\n",
       "    <tr>\n",
       "      <th>53</th>\n",
       "      <td>Haikyuu!! Second Season (Haikyu!! 2nd Season)</td>\n",
       "      <td>Following their participation at the Inter-Hig...</td>\n",
       "      <td>https://myanimelist.net/anime/28891/Haikyuu_Se...</td>\n",
       "      <td>1.000000</td>\n",
       "    </tr>\n",
       "    <tr>\n",
       "      <th>819</th>\n",
       "      <td>Haikyuu!!: Riku vs. Kuu</td>\n",
       "      <td>An intense battle rages on at the Tokyo Qualif...</td>\n",
       "      <td>https://myanimelist.net/anime/40262/Haikyuu__R...</td>\n",
       "      <td>0.951320</td>\n",
       "    </tr>\n",
       "    <tr>\n",
       "      <th>13334</th>\n",
       "      <td>Shoujo Fight: Norainu-tachi no Odekake</td>\n",
       "      <td>The story follows Neri Ooishi, a high school g...</td>\n",
       "      <td>https://myanimelist.net/anime/7092/Shoujo_Figh...</td>\n",
       "      <td>0.920541</td>\n",
       "    </tr>\n",
       "    <tr>\n",
       "      <th>124</th>\n",
       "      <td>Haikyuu!! (Haikyu!!)</td>\n",
       "      <td>Inspired after watching a volleyball ace nickn...</td>\n",
       "      <td>https://myanimelist.net/anime/20583/Haikyuu</td>\n",
       "      <td>0.912381</td>\n",
       "    </tr>\n",
       "  </tbody>\n",
       "</table>\n",
       "</div>"
      ],
      "text/plain": [
       "                                          animeTitle  \\\n",
       "53     Haikyuu!! Second Season (Haikyu!! 2nd Season)   \n",
       "819                          Haikyuu!!: Riku vs. Kuu   \n",
       "13334         Shoujo Fight: Norainu-tachi no Odekake   \n",
       "124                             Haikyuu!! (Haikyu!!)   \n",
       "\n",
       "                                        animeDescription  \\\n",
       "53     Following their participation at the Inter-Hig...   \n",
       "819    An intense battle rages on at the Tokyo Qualif...   \n",
       "13334  The story follows Neri Ooishi, a high school g...   \n",
       "124    Inspired after watching a volleyball ace nickn...   \n",
       "\n",
       "                                                animeUrl  Similarity  \n",
       "53     https://myanimelist.net/anime/28891/Haikyuu_Se...    1.000000  \n",
       "819    https://myanimelist.net/anime/40262/Haikyuu__R...    0.951320  \n",
       "13334  https://myanimelist.net/anime/7092/Shoujo_Figh...    0.920541  \n",
       "124          https://myanimelist.net/anime/20583/Haikyuu    0.912381  "
      ]
     },
     "metadata": {},
     "output_type": "display_data"
    }
   ],
   "source": [
    "import heapq\n",
    "\n",
    "k = 10\n",
    "\n",
    "query = search_eng.parse_query(input().split(), vocab, stemmer)\n",
    "\n",
    "if query:\n",
    "    \n",
    "    tfidf_q, tfidf_docs = search_eng.tfidf_query(df['synopsis_clean'], query, inv_idx, idf)\n",
    "    \n",
    "    #defining heap to finding k docs with largest cos similiarity\n",
    "    if len(tfidf_docs) < k:\n",
    "        larg_doc = {d: search_eng.cosine_similiarity(tfidf_q, tfidf_docs[d]) for d in tfidf_docs.keys()}\n",
    "    else:\n",
    "        heap = [(search_eng.cosine_similiarity(tfidf_q, tfidf_docs[key]), key) for key,value in tfidf_docs.items()]\n",
    "        larg_doc = {d: simil for (simil, d) in heapq.nlargest(k, heap)}\n",
    "    \n",
    "    df_entries = search_eng.get_df_entries(df, set(larg_doc.keys()), simil = larg_doc)\n",
    "    \n",
    "    if df_entries.size != 0: \n",
    "        display(df_entries)"
   ]
  },
  {
   "cell_type": "markdown",
   "metadata": {},
   "source": [
    "By executing the same query we chose in 2.1, we can see how the results were the same – as expected – but were sorted differently."
   ]
  },
  {
   "cell_type": "markdown",
   "metadata": {},
   "source": [
    "## 3. DEFINE A NEW SCORE!\n",
    "\n",
    "Now it's your turn. Build a new metric to rank animes based on the queries of their users.\n",
    "\n",
    "In this scenario, a single user can give in input more information than the single textual query, so you need to take into account all this information, and think a creative and logical way on how to answer at user's requests.\n",
    "\n",
    "#### Practically:\n",
    "\n",
    "The user will enter you a text query. As a starting point, get the query-related documents by exploiting the search engine of Step 2.1.<br>\n",
    "<newline>\n",
    "\n",
    "Once you have the documents, you need to sort them according to your new score. In this step you won't have anymore to take into account just the plot of the documents, you must use the remaining variables in your dataset (or new possible variables that you can create from the existing ones...). You must use a heap data structure (you can use Python libraries) for maintaining the top-k documents.<br>\n",
    "<newline>\n",
    "\n",
    "**Q: How to sort them?** <br>\n",
    "**A: Allow the user to specify more information** that you find in the documents, and define a new metric that ranks the results based on the new request. You can also use other information regarding the anime to score some animes above others.<br>\n",
    "N.B.: You have to define a scoring function, not a filter!\n",
    "\n",
    "The output, must contain:\n",
    "\n",
    "* **animeTitle**\n",
    "* **animeDescription**\n",
    "* **Url**\n",
    "* **The new similarity score of the documents** with respect to the query\n",
    "\n",
    "\n",
    "Are the results you obtain better than with the previous scoring function. Explain and compare results"
   ]
  },
  {
   "cell_type": "markdown",
   "metadata": {
    "tags": []
   },
   "source": [
    "\n",
    "## Solution\n",
    "\n",
    "The basic idea is that a user can search for the words in the synopsis in the 2.1 point, so here we want to give the possibility to the user to query the data in the points he preferes from:\n",
    "* title\n",
    "* staff\n",
    "* characters\n",
    "* voices\n",
    "* synopsis\n",
    "\n",
    "Given that the query shoudld be in the form:<br>\n",
    "\"```word1 word2 [where_to_search] word3 word4 [where_t_s2] ...```\"<br>\n",
    "and the program will return the documents that contains word1 AND word2 in the field 'where_to_search' AND contains word3 AND word4 in the field 'where_t_s2'\n",
    "<newline>\n",
    "\n",
    "Hence the idea is to create an inverted index for each of thie fields and then parse the query and obtain the document that match it.<br>\n",
    "We need to sort this document accordingly with a customized score and return for each of them the neccessarly info"
   ]
  },
  {
   "cell_type": "code",
   "execution_count": 1,
   "metadata": {},
   "outputs": [],
   "source": [
    "from advanced_queryer import *\n",
    "from search_eng import *"
   ]
  },
  {
   "cell_type": "code",
   "execution_count": 6,
   "metadata": {},
   "outputs": [],
   "source": [
    "import ast\n",
    "\n",
    "def preprocessing_staff(df):\n",
    "    df['str_staff']= df.apply(lambda row: ' '.join([el[0] for el in ast.literal_eval(row['staff'])]), \n",
    "                                axis = 'columns')\n",
    "    print(f\"[Staff]: Converted all the lists in strings, starting the preprocessing...\")\n",
    "    prepr_staff = df.apply(lambda row: (preprocess(row['str_staff'], SnowballStemmer('english'))), axis = 'columns')\n",
    "    return prepr_staff\n",
    "\n",
    "def preprocessing_voices(df):\n",
    "    df['str_voices'] = df.apply(lambda row: ' '.join(ast.literal_eval(row['voices'])), \n",
    "                                    axis = 'columns')\n",
    "    print(f\"[Voices]: Converted all the lists in strings, starting the preprocessing...\")\n",
    "    return df.apply(lambda row: (preprocess(row['str_voices'], SnowballStemmer('english'))), axis = 'columns')\n",
    "\n",
    "def preprocessing_characters(df):\n",
    "    df['str_characters'] = df.apply(lambda row: ' '.join(ast.literal_eval(row['characters'])), \n",
    "                                    axis = 'columns')\n",
    "    print(f\"[Characters]: Converted all the lists in strings, starting the preprocessing...\")\n",
    "    return df.apply(lambda row: (preprocess(row['str_characters'], SnowballStemmer('english'))), axis = 'columns')\n",
    "\n",
    "def preprocessing_title(df):\n",
    "    print(f\"[Title]: Starting the preprocessing...\")\n",
    "    return df.apply(lambda row: (preprocess(row['title'], SnowballStemmer('english'))), axis = 'columns')\n",
    "\n",
    "def preprocessing_synopsis(df):\n",
    "    print(f\"[Synopsis]: Starting the preprocessing...\")\n",
    "    return df.apply(lambda row: (preprocess(row['synopsis'], SnowballStemmer('english'))), axis = 'columns')"
   ]
  },
  {
   "cell_type": "code",
   "execution_count": 7,
   "metadata": {},
   "outputs": [
    {
     "name": "stdout",
     "output_type": "stream",
     "text": [
      "[Staff]: Converted all the lists in strings, starting the preprocessing...\n",
      "[Staff]: Done.\n",
      "[Voices]: Converted all the lists in strings, starting the preprocessing...\n",
      "[Voices]: Done.\n",
      "[Characters]: Converted all the lists in strings, starting the preprocessing...\n",
      "[Characters]: Done.\n",
      "[Title]: Starting the preprocessing...\n",
      "[Title]: Done.\n"
     ]
    }
   ],
   "source": [
    "'''\n",
    "Preprocessing staff,voices,characters and title\n",
    "'''\n",
    "\n",
    "\n",
    "prepr_staff = preprocessing_staff(df)\n",
    "print(\"[Staff]: Done.\")\n",
    "\n",
    "prepr_voices = preprocessing_voices(df)\n",
    "print(\"[Voices]: Done.\")\n",
    "\n",
    "prepr_characters = preprocessing_characters(df)\n",
    "print(\"[Characters]: Done.\")\n",
    "\n",
    "prepr_title = preprocessing_title(df)\n",
    "print(\"[Title]: Done.\")"
   ]
  },
  {
   "cell_type": "code",
   "execution_count": 8,
   "metadata": {},
   "outputs": [
    {
     "name": "stdout",
     "output_type": "stream",
     "text": [
      "[Staff]: Created vocabulary\n",
      "[Voices]: Created vocabulary\n",
      "[Characters]: Created vocabulary\n",
      "[Title]: Created vocabulary\n"
     ]
    }
   ],
   "source": [
    "voc_staff = create_vocab(prepr_staff)\n",
    "print(\"[Staff]: Created vocabulary\")\n",
    "\n",
    "voc_voices = create_vocab(prepr_voices)\n",
    "print(\"[Voices]: Created vocabulary\")\n",
    "\n",
    "voc_characters = create_vocab(prepr_characters)\n",
    "print(\"[Characters]: Created vocabulary\")\n",
    "\n",
    "voc_title = create_vocab(prepr_title)\n",
    "print(\"[Title]: Created vocabulary\")"
   ]
  },
  {
   "cell_type": "code",
   "execution_count": null,
   "metadata": {},
   "outputs": [],
   "source": [
    "'''\n",
    "Creation of inverted indexes of staff,voices,character and title\n",
    "'''\n",
    "\n",
    "idx_staff = create_inv_idx(prepr_staff, voc_staff)\n",
    "print(\"[Staff]: Created index\")\n",
    "\n",
    "idx_voices = create_inv_idx(prepr_voices, voc_voices)\n",
    "print(\"[Voices]: Created index\")\n",
    "\n",
    "idx_characters = create_inv_idx(prepr_characters, voc_characters)\n",
    "print(\"[Characters]: Created index\")\n",
    "\n",
    "idx_title = create_inv_idx(prepr_title, voc_title)\n",
    "print(\"[Title]: Created index\")"
   ]
  },
  {
   "cell_type": "code",
   "execution_count": null,
   "metadata": {},
   "outputs": [],
   "source": [
    "idx_dir = os.path.join('..', 'shared_stuff', 'indexes')\n",
    "staff_dir = os.path.join(idx_dir, 'staff')\n",
    "voices_dir = os.path.join(idx_dir, 'voices')\n",
    "ch_dir = os.path.join(idx_dir, 'characters')\n",
    "title_dir = os.path.join(idx_dir, 'title')\n",
    "syns_dir = os.path.join(idx_dir, 'synopsis')\n",
    "\n",
    "tot_dirs = {'staff': staff_dir, 'voices': voices_dir, 'characters': ch_dir, 'title': title_dir}\n",
    "for d in tot_dirs.values():\n",
    "    if not os.path.exists(d):\n",
    "        os.mkdir(d)"
   ]
  },
  {
   "cell_type": "code",
   "execution_count": null,
   "metadata": {},
   "outputs": [],
   "source": [
    "'''\n",
    "save all the vocabularies in the corresponding json files\n",
    "'''\n",
    "\n",
    "for p in [staff_dir, voices_dir, ch_dir, title_dir]:\n",
    "    idx = os.path.join(p, 'inv_idx.json')\n",
    "    voc = os.path.join(p, 'vocabulary.json')\n",
    "\n",
    "    if os.path.exists(idx) or os.path.join(voc):\n",
    "        var = input(f\"The directory {p} contains an index or vocabulary that will be overwritten do you want to proceed? [y/n]\")\n",
    "        if var=='y':\n",
    "            continue\n",
    "        else:\n",
    "            raise ValueError(\"Indexes existists!!!\")\n",
    "\n",
    "\n",
    "save_dict_to_file(dct=voc_staff, filename=os.path.join(staff_dir, 'vocabulary.json'))\n",
    "save_dict_to_file(dct=idx_staff, filename=os.path.join(staff_dir, 'inv_idx.json'))\n",
    "print(\"[Staff]: All saved.\")\n",
    "\n",
    "save_dict_to_file(dct=voc_voices, filename=os.path.join(voices_dir, 'vocabulary.json'))\n",
    "save_dict_to_file(dct=idx_voices, filename=os.path.join(voices_dir, 'inv_idx.json'))\n",
    "print(\"[Voices]: All saved.\")\n",
    "\n",
    "save_dict_to_file(dct=voc_characters, filename=os.path.join(ch_dir, 'vocabulary.json'))\n",
    "save_dict_to_file(dct=idx_characters, filename=os.path.join(ch_dir, 'inv_idx.json'))\n",
    "print(\"[Characters]: All saved.\")\n",
    "\n",
    "save_dict_to_file(dct=voc_title, filename=os.path.join(title_dir, 'vocabulary.json'))\n",
    "save_dict_to_file(dct=idx_title, filename=os.path.join(title_dir, 'inv_idx.json'))\n",
    "print(\"[Title]: All saved.\")"
   ]
  },
  {
   "cell_type": "markdown",
   "metadata": {},
   "source": [
    "Here we're fixing the synopsis vocabulary"
   ]
  },
  {
   "cell_type": "code",
   "execution_count": null,
   "metadata": {},
   "outputs": [],
   "source": [
    "prepr_syns = preprocessing_synopsis(df)\n",
    "print(\"[Synopsis]: Done.\")\n",
    "voc_syns = create_vocab(prepr_syns)\n",
    "print(\"[Synopsis]: Created vocabulary\")\n",
    "idx_syns = create_inv_idx(prepr_syns, voc_syns)\n",
    "print(\"[Synopsis]: Created index\")"
   ]
  },
  {
   "cell_type": "code",
   "execution_count": null,
   "metadata": {},
   "outputs": [],
   "source": [
    "save_dict_to_file(dct=voc_syns, filename=os.path.join(syns_dir, 'vocabulary.json'))\n",
    "save_dict_to_file(dct=idx_syns, filename=os.path.join(syns_dir, 'inv_idx.json'))\n",
    "print(\"[Synopsis]: All saved.\")"
   ]
  },
  {
   "cell_type": "code",
   "execution_count": 2,
   "metadata": {},
   "outputs": [
    {
     "name": "stdout",
     "output_type": "stream",
     "text": [
      "['dragon', '[title]', 'vegeta', '[characters]']\n",
      "{'title': [4998], 'characters': [14666]}\n"
     ]
    }
   ],
   "source": [
    "p_q = parse_advanced_query(\"dragon [title] vegeta [characters]\")\n",
    "print(p_q)"
   ]
  },
  {
   "cell_type": "markdown",
   "metadata": {},
   "source": [
    "The idea is to assign a similarity score to each documment that has all the words we are searching following the formula:\n",
    "\n",
    "$\\displaystyle \\sum_{i=0}^n \\frac{q_i\\cdot p_i}{d_i} $ \n",
    "\n",
    "where:\n",
    "* $q_i$= *len query in the i-th fielfd*\n",
    "* $d_i$= *len document in the i-th field*\n",
    "* $p_i$= *weight of i-th field of he search*\n",
    "\n",
    "Obviously, fields such as title are more important than synopsis which might be a very long description: the user is able to find relevant results just by writing one word of the title or one main character.\n",
    "The score is upper-bounded by 1. Nevertheless, it is almost impossible to reach this score since the user should write all the right informations in the appropriate field.\n",
    "\n",
    "Since, commonly, the query are very short, this method assures good results.\n",
    "\n",
    "Comparing our scoring function with the previous one, they both share their range between O and 1 but tf idf scoring function reaches more easily values towards 1.\n"
   ]
  },
  {
   "cell_type": "code",
   "execution_count": 6,
   "metadata": {},
   "outputs": [
    {
     "name": "stdout",
     "output_type": "stream",
     "text": [
      "['dragon', '[title]', 'gohan', '[characters]']\n"
     ]
    },
    {
     "data": {
      "text/html": [
       "<div>\n",
       "<style scoped>\n",
       "    .dataframe tbody tr th:only-of-type {\n",
       "        vertical-align: middle;\n",
       "    }\n",
       "\n",
       "    .dataframe tbody tr th {\n",
       "        vertical-align: top;\n",
       "    }\n",
       "\n",
       "    .dataframe thead th {\n",
       "        text-align: right;\n",
       "    }\n",
       "</style>\n",
       "<table border=\"1\" class=\"dataframe\">\n",
       "  <thead>\n",
       "    <tr style=\"text-align: right;\">\n",
       "      <th></th>\n",
       "      <th>doc_id</th>\n",
       "      <th>title</th>\n",
       "      <th>description</th>\n",
       "      <th>url</th>\n",
       "      <th>score</th>\n",
       "    </tr>\n",
       "  </thead>\n",
       "  <tbody>\n",
       "    <tr>\n",
       "      <th>0</th>\n",
       "      <td>6339</td>\n",
       "      <td>Dragon Ball GT</td>\n",
       "      <td>Emperor Pilaf finally has his hands on the Bla...</td>\n",
       "      <td>https://myanimelist.net/anime/225/Dragon_Ball_...</td>\n",
       "      <td>0.243333</td>\n",
       "    </tr>\n",
       "    <tr>\n",
       "      <th>1</th>\n",
       "      <td>365</td>\n",
       "      <td>Dragon Ball Z</td>\n",
       "      <td>Five years after winning the World Martial Art...</td>\n",
       "      <td>https://myanimelist.net/anime/813/Dragon_Ball_Z\\n</td>\n",
       "      <td>0.242564</td>\n",
       "    </tr>\n",
       "    <tr>\n",
       "      <th>2</th>\n",
       "      <td>1960</td>\n",
       "      <td>Dragon Ball Super</td>\n",
       "      <td>Seven years after the events of</td>\n",
       "      <td>https://myanimelist.net/anime/30694/Dragon_Bal...</td>\n",
       "      <td>0.241905</td>\n",
       "    </tr>\n",
       "    <tr>\n",
       "      <th>3</th>\n",
       "      <td>10958</td>\n",
       "      <td>Super Dragon Ball Heroes</td>\n",
       "      <td>In May 2018, V-Jump announced a promotional an...</td>\n",
       "      <td>https://myanimelist.net/anime/37885/Super_Drag...</td>\n",
       "      <td>0.183</td>\n",
       "    </tr>\n",
       "    <tr>\n",
       "      <th>4</th>\n",
       "      <td>4796</td>\n",
       "      <td>Dragon Ball Z: Saiya-jin Zetsumetsu Keikaku</td>\n",
       "      <td>Dr. Raichii is the only Tsufurujin (the race e...</td>\n",
       "      <td>https://myanimelist.net/anime/984/Dragon_Ball_...</td>\n",
       "      <td>0.125238</td>\n",
       "    </tr>\n",
       "    <tr>\n",
       "      <th>5</th>\n",
       "      <td>6340</td>\n",
       "      <td>Dragon Ball Z: Atsumare! Gokuu World</td>\n",
       "      <td>Dragon Ball Z: Atsumare! Goku's World is a Ter...</td>\n",
       "      <td>https://myanimelist.net/anime/6714/Dragon_Ball...</td>\n",
       "      <td>0.125238</td>\n",
       "    </tr>\n",
       "    <tr>\n",
       "      <th>6</th>\n",
       "      <td>5373</td>\n",
       "      <td>Dragon Ball: Super Saiya-jin Zetsumetsu Keikaku</td>\n",
       "      <td>Remake of Dragon Ball Z: Plan to Destroy the S...</td>\n",
       "      <td>https://myanimelist.net/anime/10017/Dragon_Bal...</td>\n",
       "      <td>0.125238</td>\n",
       "    </tr>\n",
       "    <tr>\n",
       "      <th>7</th>\n",
       "      <td>5660</td>\n",
       "      <td>Dragon Ball Z: Summer Vacation Special</td>\n",
       "      <td>One peaceful afternoon, the Son family and fri...</td>\n",
       "      <td>https://myanimelist.net/anime/22695/Dragon_Bal...</td>\n",
       "      <td>0.124167</td>\n",
       "    </tr>\n",
       "    <tr>\n",
       "      <th>8</th>\n",
       "      <td>1035</td>\n",
       "      <td>Dragon Ball Kai (Dragon Ball Z Kai)</td>\n",
       "      <td>Five years after the events of Dragon Ball, ma...</td>\n",
       "      <td>https://myanimelist.net/anime/6033/Dragon_Ball...</td>\n",
       "      <td>0.109231</td>\n",
       "    </tr>\n",
       "    <tr>\n",
       "      <th>9</th>\n",
       "      <td>5048</td>\n",
       "      <td>Dragon Ball Z Movie 03: Chikyuu Marugoto Chouk...</td>\n",
       "      <td>A mysterious device crashes on planet Earth, c...</td>\n",
       "      <td>https://myanimelist.net/anime/896/Dragon_Ball_...</td>\n",
       "      <td>0.0975</td>\n",
       "    </tr>\n",
       "    <tr>\n",
       "      <th>10</th>\n",
       "      <td>2013</td>\n",
       "      <td>Dragon Ball Z Movie 14: Kami to Kami</td>\n",
       "      <td>Following the defeat of a great adversary, Gok...</td>\n",
       "      <td>https://myanimelist.net/anime/14837/Dragon_Bal...</td>\n",
       "      <td>0.0975</td>\n",
       "    </tr>\n",
       "    <tr>\n",
       "      <th>11</th>\n",
       "      <td>4337</td>\n",
       "      <td>Dragon Ball: Ossu! Kaettekita Son Gokuu to Nak...</td>\n",
       "      <td>Based on an original concept by the original a...</td>\n",
       "      <td>https://myanimelist.net/anime/5152/Dragon_Ball...</td>\n",
       "      <td>0.096731</td>\n",
       "    </tr>\n",
       "    <tr>\n",
       "      <th>12</th>\n",
       "      <td>3477</td>\n",
       "      <td>Dragon Ball Z Movie 15: Fukkatsu no \"F\"</td>\n",
       "      <td>Earth is finally peaceful again, but this calm...</td>\n",
       "      <td>https://myanimelist.net/anime/25389/Dragon_Bal...</td>\n",
       "      <td>0.096071</td>\n",
       "    </tr>\n",
       "    <tr>\n",
       "      <th>13</th>\n",
       "      <td>6089</td>\n",
       "      <td>Dragon Ball Z: Zenbu Misemasu Toshi Wasure Dra...</td>\n",
       "      <td>In this film, which is believed to take place ...</td>\n",
       "      <td>https://myanimelist.net/anime/22699/Dragon_Bal...</td>\n",
       "      <td>0.087143</td>\n",
       "    </tr>\n",
       "    <tr>\n",
       "      <th>14</th>\n",
       "      <td>2292</td>\n",
       "      <td>Dragon Ball Z Movie 08: Moetsukiro!! Nessen, R...</td>\n",
       "      <td>As Goku investigates the destruction of the So...</td>\n",
       "      <td>https://myanimelist.net/anime/901/Dragon_Ball_...</td>\n",
       "      <td>0.087009</td>\n",
       "    </tr>\n",
       "  </tbody>\n",
       "</table>\n",
       "</div>"
      ],
      "text/plain": [
       "    doc_id                                              title  \\\n",
       "0     6339                                     Dragon Ball GT   \n",
       "1      365                                      Dragon Ball Z   \n",
       "2     1960                                  Dragon Ball Super   \n",
       "3    10958                           Super Dragon Ball Heroes   \n",
       "4     4796        Dragon Ball Z: Saiya-jin Zetsumetsu Keikaku   \n",
       "5     6340               Dragon Ball Z: Atsumare! Gokuu World   \n",
       "6     5373    Dragon Ball: Super Saiya-jin Zetsumetsu Keikaku   \n",
       "7     5660             Dragon Ball Z: Summer Vacation Special   \n",
       "8     1035                Dragon Ball Kai (Dragon Ball Z Kai)   \n",
       "9     5048  Dragon Ball Z Movie 03: Chikyuu Marugoto Chouk...   \n",
       "10    2013               Dragon Ball Z Movie 14: Kami to Kami   \n",
       "11    4337  Dragon Ball: Ossu! Kaettekita Son Gokuu to Nak...   \n",
       "12    3477            Dragon Ball Z Movie 15: Fukkatsu no \"F\"   \n",
       "13    6089  Dragon Ball Z: Zenbu Misemasu Toshi Wasure Dra...   \n",
       "14    2292  Dragon Ball Z Movie 08: Moetsukiro!! Nessen, R...   \n",
       "\n",
       "                                          description  \\\n",
       "0   Emperor Pilaf finally has his hands on the Bla...   \n",
       "1   Five years after winning the World Martial Art...   \n",
       "2                    Seven years after the events of    \n",
       "3   In May 2018, V-Jump announced a promotional an...   \n",
       "4   Dr. Raichii is the only Tsufurujin (the race e...   \n",
       "5   Dragon Ball Z: Atsumare! Goku's World is a Ter...   \n",
       "6   Remake of Dragon Ball Z: Plan to Destroy the S...   \n",
       "7   One peaceful afternoon, the Son family and fri...   \n",
       "8   Five years after the events of Dragon Ball, ma...   \n",
       "9   A mysterious device crashes on planet Earth, c...   \n",
       "10  Following the defeat of a great adversary, Gok...   \n",
       "11  Based on an original concept by the original a...   \n",
       "12  Earth is finally peaceful again, but this calm...   \n",
       "13  In this film, which is believed to take place ...   \n",
       "14  As Goku investigates the destruction of the So...   \n",
       "\n",
       "                                                  url     score  \n",
       "0   https://myanimelist.net/anime/225/Dragon_Ball_...  0.243333  \n",
       "1   https://myanimelist.net/anime/813/Dragon_Ball_Z\\n  0.242564  \n",
       "2   https://myanimelist.net/anime/30694/Dragon_Bal...  0.241905  \n",
       "3   https://myanimelist.net/anime/37885/Super_Drag...     0.183  \n",
       "4   https://myanimelist.net/anime/984/Dragon_Ball_...  0.125238  \n",
       "5   https://myanimelist.net/anime/6714/Dragon_Ball...  0.125238  \n",
       "6   https://myanimelist.net/anime/10017/Dragon_Bal...  0.125238  \n",
       "7   https://myanimelist.net/anime/22695/Dragon_Bal...  0.124167  \n",
       "8   https://myanimelist.net/anime/6033/Dragon_Ball...  0.109231  \n",
       "9   https://myanimelist.net/anime/896/Dragon_Ball_...    0.0975  \n",
       "10  https://myanimelist.net/anime/14837/Dragon_Bal...    0.0975  \n",
       "11  https://myanimelist.net/anime/5152/Dragon_Ball...  0.096731  \n",
       "12  https://myanimelist.net/anime/25389/Dragon_Bal...  0.096071  \n",
       "13  https://myanimelist.net/anime/22699/Dragon_Bal...  0.087143  \n",
       "14  https://myanimelist.net/anime/901/Dragon_Ball_...  0.087009  "
      ]
     },
     "execution_count": 6,
     "metadata": {},
     "output_type": "execute_result"
    }
   ],
   "source": [
    "dragonball = \"dragon [title] gohan [characters]\"\n",
    "query_anime(df, dragonball, 15)"
   ]
  },
  {
   "cell_type": "markdown",
   "metadata": {},
   "source": [
    "## 4. BONUS Understanding the anime's reviews"
   ]
  },
  {
   "cell_type": "code",
   "execution_count": 360,
   "metadata": {},
   "outputs": [],
   "source": [
    "import sent_analysis\n",
    "import numpy as np\n",
    "import matplotlib.pyplot as plt\n",
    "import seaborn as sns\n",
    "\n",
    "sns.set()"
   ]
  },
  {
   "cell_type": "markdown",
   "metadata": {},
   "source": [
    "In order to perform a sentiment analysis on the animes' reviews, we can use NLTK's pre-trained sentiment analyzer, called VADER (Valence Aware Dictionary and sEntiment Reasoner).\n",
    "\n",
    "VADER performs best with 'social media language', i.e. short sentences with slang/abbreviations; since in this case we are dealing with longer and more structured text (though we will only consider the first 500 or so characters of each review), we can analyze each sentence separately and then average the results to get an overall score.\n",
    "\n",
    "Let's import the `SentimentIntensityAnalyzer` and create an instance of it called `sia`"
   ]
  },
  {
   "cell_type": "code",
   "execution_count": 271,
   "metadata": {},
   "outputs": [],
   "source": [
    "from nltk.sentiment import SentimentIntensityAnalyzer\n",
    "\n",
    "sia = SentimentIntensityAnalyzer()"
   ]
  },
  {
   "cell_type": "markdown",
   "metadata": {},
   "source": [
    "We don't need to work with every anime on the list, because we expect for animes close in the standings to produce very similar results. Instead, what we mainly want to study is the relationship between the anime's and our sentiment anaysis' score across the whole range of scores.\n",
    "\n",
    "So let's sample only one review every 10"
   ]
  },
  {
   "cell_type": "code",
   "execution_count": 340,
   "metadata": {},
   "outputs": [],
   "source": [
    "df_sent = df.copy()\n",
    "\n",
    "df_sent = df_sent.iloc[::10, :][['title', 'type', 'episodes', 'score', 'top_reviews']]"
   ]
  },
  {
   "cell_type": "markdown",
   "metadata": {},
   "source": [
    "Before doing any work on the reviews, we should make sure they are ready to be analyzed: each row of the `top_reviews` column must be parsed by `pandas` as a list of strings. \n",
    "\n",
    "First, we should remove from the dataframe every anime without reviews"
   ]
  },
  {
   "cell_type": "code",
   "execution_count": 341,
   "metadata": {},
   "outputs": [],
   "source": [
    "df_sent = df_sent[df_sent['top_reviews'] != \"[]\"]"
   ]
  },
  {
   "cell_type": "markdown",
   "metadata": {},
   "source": [
    "We can now parse `top_reviews` using `ast`'s `literal_eval` method "
   ]
  },
  {
   "cell_type": "code",
   "execution_count": 342,
   "metadata": {},
   "outputs": [],
   "source": [
    "df_sent['top_reviews'] = df_sent.apply(lambda row: ast.literal_eval(row['top_reviews']),\n",
    "                                       axis = 'columns')"
   ]
  },
  {
   "cell_type": "markdown",
   "metadata": {},
   "source": [
    "Then we should get rid of all poorly-scraped reviews, i.e. reviews whose first lines or so weren't actually made up of sentences or only consisted of a short introduction (e.g. 'Spoiler Alert' or similar). \n",
    "\n",
    "We can get rid of those by only keeping reviews with at least 100 characters"
   ]
  },
  {
   "cell_type": "code",
   "execution_count": 350,
   "metadata": {},
   "outputs": [],
   "source": [
    "df_sent['top_reviews'] = df_sent.apply(lambda row: sent_analysis.filter_by_length(row['top_reviews'], 100),\n",
    "                                       axis = 'columns')\n",
    "\n",
    "df_sent = df_sent[df_sent['top_reviews'].str.len() > 0]"
   ]
  },
  {
   "cell_type": "markdown",
   "metadata": {},
   "source": [
    "Finally, we remove from the dataframe every anime without a score and convert the rest to floats"
   ]
  },
  {
   "cell_type": "code",
   "execution_count": 351,
   "metadata": {},
   "outputs": [],
   "source": [
    "df_sent = df_sent[df_sent['score'] != \"None\"]\n",
    "\n",
    "df_sent['score'] = np.array(df_sent['score'], dtype = float)"
   ]
  },
  {
   "cell_type": "markdown",
   "metadata": {},
   "source": [
    "Now we're ready to perform some sentiment analysis.\n",
    "\n",
    "We will start by calculating an average `compound` score for the reviews of each anime. As documented in the [official repository](https://github.com/cjhutto/vaderSentiment#about-the-scoring), the compound score is computed by summing the valence scores of each word in the lexicon and it's then normalized between -1 (most extreme negative) and 1 (most extreme positive), with 0 being perfectly neutral.\n",
    "\n",
    "As mentioned earlier, we will compute the compound score for each sentence of a review, then compute an average for the review, and finally an average for all the reviews of that particular anime.\n",
    "\n",
    "Let's save the results into a new `polarity_score` column"
   ]
  },
  {
   "cell_type": "code",
   "execution_count": 353,
   "metadata": {},
   "outputs": [],
   "source": [
    "df_sent['polarity_score'] = df_sent.apply(lambda row: sent_analysis.score_of_anime(row['top_reviews'], sia),\n",
    "                                          axis = 'columns')"
   ]
  },
  {
   "cell_type": "markdown",
   "metadata": {},
   "source": [
    "How are the polarity scores distributed?"
   ]
  },
  {
   "cell_type": "code",
   "execution_count": 582,
   "metadata": {},
   "outputs": [
    {
     "data": {
      "image/png": "[encoded data removed]",
      "text/plain": [
       "<Figure size 504x504 with 1 Axes>"
      ]
     },
     "metadata": {},
     "output_type": "display_data"
    },
    {
     "data": {
      "text/plain": [
       "count    832.000000\n",
       "mean       0.184468\n",
       "std        0.260445\n",
       "min       -0.872000\n",
       "25%        0.027007\n",
       "50%        0.173715\n",
       "75%        0.355588\n",
       "max        0.908100\n",
       "Name: polarity_score, dtype: float64"
      ]
     },
     "execution_count": 582,
     "metadata": {},
     "output_type": "execute_result"
    }
   ],
   "source": [
    "sns.histplot(df_sent['polarity_score'], stat = \"probability\")\n",
    "plt.xlabel(\"Polarity score\")\n",
    "plt.show()\n",
    "\n",
    "df_sent['polarity_score'].describe()"
   ]
  },
  {
   "cell_type": "markdown",
   "metadata": {},
   "source": [
    "Generally, it looks like most of the reviews we scraped – those on the main page of the anime – show a positive sentiment.\n",
    "\n",
    "Let's actually quantify how many can be considered \"positive\", \"negative\" or \"neutral\", by setting these thresholds:\n",
    "\n",
    "$\\text{Positive}\\;\\;\\: if\\; \\text{compound_score} \\geq 0.2$<br>\n",
    "$\\text{Negative}\\;\\; if\\; \\text{compound_score} \\leq -0.2$<br>\n",
    "$\\text{Neutral}\\;\\;\\:  otherwise$\n",
    "\n",
    "We can assign this classification to a new column in the dataframe"
   ]
  },
  {
   "cell_type": "code",
   "execution_count": 430,
   "metadata": {},
   "outputs": [],
   "source": [
    "df_sent['sentiment'] = df_sent.apply(lambda row: sent_analysis.sent_of_anime(row['polarity_score']),\n",
    "                                     axis = \"columns\")"
   ]
  },
  {
   "cell_type": "markdown",
   "metadata": {},
   "source": [
    "We get that the about half of animes – given those thresholds – can be considered positively received, with only a small portion being negatively received."
   ]
  },
  {
   "cell_type": "code",
   "execution_count": 565,
   "metadata": {},
   "outputs": [
    {
     "data": {
      "image/png": "[encoded data removed]",
      "text/plain": [
       "<Figure size 504x504 with 1 Axes>"
      ]
     },
     "metadata": {},
     "output_type": "display_data"
    },
    {
     "name": "stdout",
     "output_type": "stream",
     "text": [
      "Number of animes classified with the\n"
     ]
    },
    {
     "data": {
      "text/plain": [
       "sentiment\n",
       "Negative     48\n",
       "Neutral     398\n",
       "Positive    386\n",
       "dtype: int64"
      ]
     },
     "execution_count": 565,
     "metadata": {},
     "output_type": "execute_result"
    }
   ],
   "source": [
    "plt.rcParams['figure.figsize'] = (7,7)\n",
    "plt.title(\"Overall Sentiment\", fontsize = 20)\n",
    "sent_analysis.sent_pie_chart(plt, df_sent['sentiment']).show()\n",
    "\n",
    "print(\"Number of animes classified with the\")\n",
    "df_sent.groupby('sentiment').size()"
   ]
  },
  {
   "cell_type": "markdown",
   "metadata": {},
   "source": [
    "Having said that, we believe we should take this graph with a grain of salt: we are confident that considering only the very first portion of the reviews and only scraping those which were on the front page definitely impacted the result, even assuming the scores we computed and the classification we did were ideal.\n",
    "\n",
    "Between the two, the more deciding factor definitely was the former, because many of the reviews on MyAnimeList – especially those on the front page – generally start with some premise and/or are structured in sections, and our scraping/analysis didn't go as far.\n",
    "\n",
    "This is also the reason why for the classification we picked thresholds that are much higher than those suggested in the [official repository](https://github.com/cjhutto/vaderSentiment#about-the-scoring)."
   ]
  },
  {
   "cell_type": "markdown",
   "metadata": {},
   "source": [
    "### Is there any relationship between the polarity scores and the actual ratings of the animes?"
   ]
  },
  {
   "cell_type": "markdown",
   "metadata": {},
   "source": [
    "Let's first take a look at the distribution of the ratings"
   ]
  },
  {
   "cell_type": "code",
   "execution_count": 433,
   "metadata": {},
   "outputs": [
    {
     "data": {
      "image/png": "[encoded data removed]",
      "text/plain": [
       "<Figure size 504x504 with 1 Axes>"
      ]
     },
     "metadata": {},
     "output_type": "display_data"
    },
    {
     "data": {
      "text/plain": [
       "count    832.000000\n",
       "mean       6.718954\n",
       "std        0.906373\n",
       "min        1.970000\n",
       "25%        6.170000\n",
       "50%        6.780000\n",
       "75%        7.330000\n",
       "max        9.160000\n",
       "Name: score, dtype: float64"
      ]
     },
     "execution_count": 433,
     "metadata": {},
     "output_type": "execute_result"
    }
   ],
   "source": [
    "sns.histplot(df_sent['score'], stat = \"probability\")\n",
    "plt.xlabel(\"Ratings\")\n",
    "plt.show()\n",
    "\n",
    "df_sent['score'].describe()"
   ]
  },
  {
   "cell_type": "markdown",
   "metadata": {},
   "source": [
    "Most of the ratings are centered around 7, in a similar fashion to how the polarity scores are centered around 0.2.\n",
    "\n",
    "In order to compare them, let's normalize both of them between -1 and 1.\n",
    "\n",
    "**Remark**: a compound score is by definition normalized between -1 and 1, but the series of those we actually computed is obviously not"
   ]
  },
  {
   "cell_type": "code",
   "execution_count": 373,
   "metadata": {},
   "outputs": [],
   "source": [
    "pol_score = sent_analysis.norm_col(df_sent['polarity_score'], -1, 1)\n",
    "anime_score = sent_analysis.norm_col(df_sent['score'], -1, 1)"
   ]
  },
  {
   "cell_type": "markdown",
   "metadata": {},
   "source": [
    "Now we can produce a scatterplot of one *vs* the other"
   ]
  },
  {
   "cell_type": "code",
   "execution_count": 432,
   "metadata": {},
   "outputs": [
    {
     "data": {
      "image/png": "[encoded data removed]",
      "text/plain": [
       "<Figure size 504x504 with 1 Axes>"
      ]
     },
     "metadata": {},
     "output_type": "display_data"
    }
   ],
   "source": [
    "plt.scatter(anime_score, pol_score)\n",
    "plt.xlabel(\"Polarity (compound) score\")\n",
    "plt.ylabel(\"Rating\")\n",
    "plt.show()"
   ]
  },
  {
   "cell_type": "markdown",
   "metadata": {},
   "source": [
    "There is no clear relationship between the two, and as we could expect the plot is denser around the medians of the two distributions, which are"
   ]
  },
  {
   "cell_type": "code",
   "execution_count": 413,
   "metadata": {},
   "outputs": [
    {
     "name": "stdout",
     "output_type": "stream",
     "text": [
      "Med(pol_score) = 0.17\n",
      "Med(anime_score) = 0.34\n"
     ]
    }
   ],
   "source": [
    "print(f\"Med(pol_score) = {np.median(pol_score):.2f}\")\n",
    "print(f\"Med(anime_score) = {np.median(anime_score):.2f}\")"
   ]
  },
  {
   "cell_type": "markdown",
   "metadata": {},
   "source": [
    "If we compute the Pearson's R coefficient there doesn't in fact appear to be any (linear) relationship between the two"
   ]
  },
  {
   "cell_type": "code",
   "execution_count": 416,
   "metadata": {},
   "outputs": [
    {
     "name": "stdout",
     "output_type": "stream",
     "text": [
      "R = 0.095426\n",
      "p = 0.005875 < 0.05\n"
     ]
    }
   ],
   "source": [
    "from scipy.stats import pearsonr\n",
    "\n",
    "pearsonr = pearsonr(pol_score, anime_score)\n",
    "\n",
    "print(f\"R = {pearsonr[0]:2f}\")\n",
    "print(f\"p = {pearsonr[1]:1f} < 0.05\")"
   ]
  },
  {
   "cell_type": "markdown",
   "metadata": {},
   "source": [
    "### What is the most popular type of anime?"
   ]
  },
  {
   "cell_type": "code",
   "execution_count": 477,
   "metadata": {},
   "outputs": [
    {
     "data": {
      "text/plain": [
       "type\n",
       "Movie      130\n",
       "Music       20\n",
       "ONA         63\n",
       "OVA        217\n",
       "Special     72\n",
       "TV         330\n",
       "dtype: int64"
      ]
     },
     "execution_count": 477,
     "metadata": {},
     "output_type": "execute_result"
    }
   ],
   "source": [
    "df_sent.groupby('type').size()"
   ]
  },
  {
   "cell_type": "markdown",
   "metadata": {},
   "source": [
    "Let's see if the proportion of Positive / Negative / Neutral changes among the six types; to do so we can compare the pie charts we get"
   ]
  },
  {
   "cell_type": "code",
   "execution_count": 566,
   "metadata": {},
   "outputs": [
    {
     "data": {
      "image/png": "[encoded data removed]",
      "text/plain": [
       "<Figure size 720x720 with 6 Axes>"
      ]
     },
     "metadata": {},
     "output_type": "display_data"
    }
   ],
   "source": [
    "fig, axes = plt.subplots(3, 2, figsize = (10, 10))\n",
    "\n",
    "sent_analysis.sent_multiple_pie_charts(df_sent, plt, axes)\n",
    "\n",
    "plt.show()"
   ]
  },
  {
   "cell_type": "markdown",
   "metadata": {},
   "source": [
    "By looking at these charts the most popular anime type seems to be the \"Music\" type (which is also the one with least number of entries); however – as we explained earlier – we would refrain from drawing conclusions from this analysis alone, which is only meant to give a rough idea."
   ]
  },
  {
   "cell_type": "markdown",
   "metadata": {},
   "source": [
    "#### Number of episodes"
   ]
  },
  {
   "cell_type": "code",
   "execution_count": 579,
   "metadata": {},
   "outputs": [],
   "source": [
    "num_episodes = np.array(df_sent[(df_sent['type'] == \"TV\") & (df_sent['episodes'] != 'None')]['episodes'],\n",
    "                        dtype = int)"
   ]
  },
  {
   "cell_type": "markdown",
   "metadata": {},
   "source": [
    "First, let's take an exploratory look into the distribution of the number of episodes, by only considering animes of type `TV` (otherwise we would observe a peak in 1 due to the other types)."
   ]
  },
  {
   "cell_type": "code",
   "execution_count": 604,
   "metadata": {},
   "outputs": [
    {
     "data": {
      "image/png": "[encoded data removed]",
      "text/plain": [
       "<Figure size 720x360 with 2 Axes>"
      ]
     },
     "metadata": {},
     "output_type": "display_data"
    }
   ],
   "source": [
    "fig, (ax1, ax2) = plt.subplots(1, 2, figsize = (10, 5))\n",
    "\n",
    "sns.histplot(num_episodes, stat = \"probability\", ax = ax1).set(xlim = (1, max(num_episodes)))\n",
    "sns.histplot(num_episodes, stat = \"probability\", ax = ax2).set(xlim = (1, 55))\n",
    "\n",
    "ax1.set_xlabel(\"Number of TV episodes\")\n",
    "ax2.set_xlabel(\"zoomed in the range [1,55]\")\n",
    "\n",
    "plt.show()"
   ]
  },
  {
   "cell_type": "markdown",
   "metadata": {},
   "source": [
    "Most of the TV animes (among those we considered) have less than 50 episodes, with some noticeable peaks around 10 and 25.\n",
    "\n",
    "As we did before, let's normalize these values between -1 and 1 and compare them to the polarity scores."
   ]
  },
  {
   "cell_type": "markdown",
   "metadata": {},
   "source": [
    "## 5. Algorithmic question\n",
    "You consult for a personal trainer who has a back-to-back sequence of requests for appointments. A sequence of requests is of the form > 30, 40, 25, 50, 30, 20 where each number is the time that the person who makes the appointment wants to spend. You need to accept some requests, however you need a break between them, so you cannot accept two consecutive requests. For example, [30, 50, 20] is an acceptable solution (of duration 100), but [30, 40, 50, 20] is not, because 30 and 40 are two consecutive appointments. Your goal is to provide to the personal trainer a schedule that maximizes the total length of the accepted appointments. For example, in the previous instance, the optimal solution is [40, 50, 20], of total duration 110.\n",
    "\n",
    "* Write an algorithm that computes the acceptable solution with the longest possible duration.\n",
    "* Implement a program that given in input an instance in the form given above, gives the optimal solution."
   ]
  },
  {
   "cell_type": "markdown",
   "metadata": {},
   "source": [
    "\n",
    "*SOLUTION*\n",
    "\n",
    "* We started with a recursive algorithm which was correct but not optimal.\n",
    "\n",
    "\n",
    "\n",
    "* Then, we decided to find a algorithm with linear running time.\n",
    "\n",
    "    First of all, we found a solution to the sub-problem related to maximum sum of a sequence which elements were not consecutive: we implement an algorithm that takes into account two diffent variables a and b that store the sum of the elements considering the actual element as included or excluded. Simoultaneously, we create two different lists of tuples [ original= (element of original array, its index), step=(elements  of the array such that a+element>b,it index).\n",
    "\n",
    "    We implemented a function able to eliminate all the elements of step if they were consecutive in original. Due to the structure of step, it made sense starting from the last element since we were certain that it was certainly in the final result.\n",
    "\n",
    "**Note**: the algorithm does not discriminate different possible solution with the same sum\n",
    "\n",
    "At the end, we compared the results of this two different algorithms with random array to be sure of the implementation.\n"
   ]
  },
  {
   "cell_type": "code",
   "execution_count": 1,
   "metadata": {},
   "outputs": [],
   "source": [
    "def recursive_algo(arr):\n",
    "    if len(arr)<2:\n",
    "        return arr\n",
    "\n",
    "    return(max(recursive_algo(arr[1:]), [arr[0]] + recursive_algo(arr[2:]), key=sum))\n",
    "\n",
    "#recursive_algo(caso_limite)"
   ]
  },
  {
   "cell_type": "code",
   "execution_count": 4,
   "metadata": {},
   "outputs": [],
   "source": [
    "def find_max_sum(array):\n",
    "    '''\n",
    "    find the max sum of elements that are not consecutive\n",
    "    '''\n",
    "    a=0\n",
    "    b=array[0]\n",
    "    original=[(array[0],0)]\n",
    "    step=[(array[0],0)]\n",
    "    index=1\n",
    "    for elem in array[1:]:\n",
    "        original.append((elem,index))\n",
    "        n=max(a+elem,b)\n",
    "        if a+elem>b:\n",
    "            step.append((elem,index))\n",
    "        index+=1\n",
    "        a=b\n",
    "        b=n\n",
    "\n",
    "    \n",
    "    return b,step,original\n",
    "\n",
    "def eliminate_consecutive(step,original):\n",
    "    '''\n",
    "    eliminate the element from step which are consecutive in the original array\n",
    "    '''\n",
    "    i=0\n",
    "    condizione=len(step)\n",
    "\n",
    "    \n",
    "    while -i<condizione:\n",
    "        j=step[i-1][1]\n",
    "\n",
    "        if (step[i-1][1]!=0 ):   \n",
    "            if (step[i-2]==original[j-1]):\n",
    "                step.pop(i-2)\n",
    "\n",
    "        condizione=len(step)\n",
    "        i-=1\n",
    "        \n",
    "    step=[x[0] for x in step]\n",
    "    return step\n",
    "    \n",
    "\n",
    "def solutione(array):\n",
    "    b,step,original=find_max_sum(array)\n",
    "    step=eliminate_consecutive(step,original)\n",
    "    return step\n"
   ]
  },
  {
   "cell_type": "code",
   "execution_count": 5,
   "metadata": {},
   "outputs": [],
   "source": [
    "import random\n",
    "for i in range(1000):\n",
    "     k=random.randint(5,20)\n",
    "     array=[random.randint(1,20) for _ in range(k)]\n",
    "     assert sum(recursive_algo(array))==sum(solutione(array)),f\"errore nel array {i} {array}\""
   ]
  },
  {
   "cell_type": "code",
   "execution_count": 7,
   "metadata": {},
   "outputs": [
    {
     "data": {
      "text/plain": [
       "[40, 40, 40]"
      ]
     },
     "execution_count": 7,
     "metadata": {},
     "output_type": "execute_result"
    }
   ],
   "source": [
    "solutione([40,50,40,40,40])"
   ]
  }
 ],
 "metadata": {
  "interpreter": {
   "hash": "c0e40e7c7a66e87c69eaa7498d7778a1d8fa6b3e422091d0b3e8dafd8f730247"
  },
  "kernelspec": {
   "display_name": "Python 3 (ipykernel)",
   "language": "python",
   "name": "python3"
  },
  "language_info": {
   "codemirror_mode": {
    "name": "ipython",
    "version": 3
   },
   "file_extension": ".py",
   "mimetype": "text/x-python",
   "name": "python",
   "nbconvert_exporter": "python",
   "pygments_lexer": "ipython3",
   "version": "3.7.11"
  }
 },
 "nbformat": 4,
 "nbformat_minor": 4
}
