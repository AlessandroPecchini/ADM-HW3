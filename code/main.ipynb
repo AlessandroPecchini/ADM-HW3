{
 "cells": [
  {
   "cell_type": "markdown",
   "metadata": {},
   "source": [
    "# HOMEWORK 3"
   ]
  },
  {
   "cell_type": "markdown",
   "metadata": {},
   "source": [
    "## 1) DATA COLLECTION"
   ]
  },
  {
   "cell_type": "markdown",
   "metadata": {},
   "source": [
    "### 1.1 Get the list of animes\n",
    "We start from the list of animes to include in your corpus of documents. In particular, we focus on the top animes ever list. From this list we want to collect the url associated to each anime in the list. The list is long and splitted in many pages. We ask you to retrieve only the urls of the animes listed in the first 400 pages (each page has 50 animes so you will end up with 20000 unique anime urls).\n",
    "\n",
    "The output of this step is a .txt file whose single line corresponds to an anime's url."
   ]
  },
  {
   "cell_type": "markdown",
   "metadata": {},
   "source": []
  },
  {
   "cell_type": "code",
   "execution_count": 2,
   "metadata": {},
   "outputs": [],
   "source": [
    "#import libraries\n",
    "import requests\n",
    "url = 'https://myanimelist.net/topanime.php'\n",
    "response= requests.get(url)\n",
    "from bs4 import BeautifulSoup"
   ]
  },
  {
   "cell_type": "code",
   "execution_count": 3,
   "metadata": {},
   "outputs": [],
   "source": [
    "soup = BeautifulSoup(response.text, 'html.parser')\n",
    "#soup.find_all('a') #Finds all the links\n",
    "#soup.find_all('tr') # Finds all the tables"
   ]
  },
  {
   "cell_type": "code",
   "execution_count": 4,
   "metadata": {},
   "outputs": [],
   "source": [
    "def get_links_from_soup(soup):\n",
    "    anime = []\n",
    "    for tag in soup.find_all('tr'):\n",
    "        links = tag.find_all('a')\n",
    "        for link in links:\n",
    "            if type(link.get('id')) == str and len(link.contents[0]) > 1:\n",
    "                anime.append((link.contents[0], link.get('href')))\n",
    "    return anime"
   ]
  },
  {
   "cell_type": "code",
   "execution_count": null,
   "metadata": {},
   "outputs": [],
   "source": [
    "tot_list= []\n",
    "for lim in range(0, 20000, 50):\n",
    "    if lim==0:\n",
    "        new_url = url\n",
    "    else:\n",
    "        new_url = url+'?limit='+str(lim)\n",
    "    response = requests.get(new_url)\n",
    "    soup = BeautifulSoup(response.text, 'html.parser')\n",
    "    tot_list += get_links_from_soup(soup)"
   ]
  },
  {
   "cell_type": "code",
   "execution_count": null,
   "metadata": {},
   "outputs": [
    {
     "data": {
      "text/plain": [
       "19122"
      ]
     },
     "execution_count": 8,
     "metadata": {},
     "output_type": "execute_result"
    }
   ],
   "source": [
    "len(tot_list)"
   ]
  },
  {
   "cell_type": "code",
   "execution_count": null,
   "metadata": {},
   "outputs": [],
   "source": [
    "with open('out.txt', 'w') as f:\n",
    "    for n, link in tot_list:\n",
    "        f.write(link+'\\n')"
   ]
  },
  {
   "cell_type": "markdown",
   "metadata": {},
   "source": [
    "### 1.2. Crawl animes\n",
    "Once you get all the urls in the first 400 pages of the list, you:\n",
    "\n",
    "* Download the html corresponding to each of the collected urls.\n",
    "* After you collect a single page, immediately save its html in a file. In this way, if your program stops, for any reason, you will not lose the data collected up to the * * * stopping point. More details in Important (2).\n",
    "* Organize the entire set of downloaded html pages into folders. Each folder will contain the htmls of the animes in page 1, page 2, ... of the list of animes."
   ]
  },
  {
   "cell_type": "code",
   "execution_count": null,
   "metadata": {},
   "outputs": [],
   "source": [
    "with open(\"out.txt\") as file:\n",
    "    #the line will be the url\n",
    "    number=0\n",
    "    \n",
    "    for url in file:\n",
    "        respone=requests.get(url)\n",
    "        soup=BeautifulSoup(response.content,\"html.parser\")\n",
    "        soup=str(soup)\n",
    "        #save file as htlm\n",
    "        name=('article_%d.html' % (number))\n",
    "        html_file = open(name,\"w\")\n",
    "        html_file.write(soup)\n",
    "        html_file.close()\n",
    "        number+=1\n",
    "       "
   ]
  },
  {
   "cell_type": "markdown",
   "metadata": {},
   "source": [
    "**Important**\n",
    "\n",
    "Due to the large amount of pages you need to download, follow the next tips that will help you speeding up several time-consuming operations.\n",
    "\n",
    "[Save time downloading files] You are asked to crawl a considerable number of pages, which will take plenty of time. To speed up the operation, we suggest you to work in parallel with your group's colleagues or even generate code that works in parallel with all the CPUs available in your computer. In particular, using the same code, each component of the group can be in charge of downloading a subset of pages (e.g., the first 100). PAY ATTENTION: Once obtained all the pages, merge your results into an unique dataset. In fact, the search engine must look up for results in the whole set of documents.\n",
    "\n",
    "[Save your data] It is not nice to restart a crawling procedure, given its runtime. For this reason, it is extremely important that for every time you crawl a page, you must save it with the name article_i.html, where i corresponds to the number of articles you have already downloaded. In such way, if something goes bad, you can restart your crawling procedure from the i+1-th document."
   ]
  },
  {
   "cell_type": "markdown",
   "metadata": {},
   "source": [
    "### 1.3 Parse downloaded pages\n",
    "At this point, you should have all the html documents about the animes of interest and you can start to extract the animes informations. The list of information we desire for each anime and their format is the following:\n",
    "\n",
    "* **Anime Name** (to save as animeTitle): *String*\n",
    "* **Anime Type** (to save as animeType): *String*\n",
    "* **Number of episode** (to save as animeNumEpisode): *Integer*\n",
    "* **Release and End Dates of anime** (to save as releaseDate and endDate): Convert both release and end date into *datetime format*.\n",
    "* **Number of members** (to save as animeNumMembers): *Integer*\n",
    "* **Score** (to save as animeScore): *Float*\n",
    "* **Users** (to save as animeUsers): *Integer*\n",
    "* **Rank** (to save as animeRank): *Integer*\n",
    "* **Popularity** (to save as animePopularity): *Integer*\n",
    "* **Synopsis** (to save as animeDescription): *String*\n",
    "* **Related Anime** (to save as animeRelated): Extract all the related animes, but only keep unique values and those that have a hyperlink associated to them. *List of strings*.\n",
    "* **Characters** (to save as animeCharacters): *List of strings*.\n",
    "* **Voices** (to save as animeVoices): *List of strings*\n",
    "* **Staff** (to save as animeStaff): Include the staff name and their responsibility/task in a *list of lists*."
   ]
  },
  {
   "cell_type": "markdown",
   "metadata": {},
   "source": [
    "For each anime, you create an anime_i.tsv file of this structure:\n",
    "\n",
    "animeTitle \\t animeType \\t  ... \\t animeStaff"
   ]
  },
  {
   "cell_type": "markdown",
   "metadata": {},
   "source": [
    "## 2. SEARCH ENGINE\n",
    "Now, we want to create two different Search Engines that, given as input a query, return the animes that match the query.\n",
    "\n",
    "First, you must pre-process all the information collected for each anime by:\n",
    "\n",
    "* Removing stopwords\n",
    "* Removing punctuation\n",
    "* Stemming\n",
    "* Anything else you think it's needed\n",
    "\n",
    "For this purpose, you can use the nltk library."
   ]
  },
  {
   "cell_type": "code",
   "execution_count": 132,
   "metadata": {},
   "outputs": [],
   "source": [
    "import pandas as pd\n",
    "import string\n",
    "import json\n",
    "from operator import itemgetter\n",
    "\n",
    "from nltk.corpus import stopwords\n",
    "from nltk.tokenize import word_tokenize\n",
    "from nltk.stem import SnowballStemmer"
   ]
  },
  {
   "cell_type": "code",
   "execution_count": null,
   "metadata": {},
   "outputs": [],
   "source": [
    "nltk.download('punkt')\n",
    "nltk.download('stopwords')"
   ]
  },
  {
   "cell_type": "markdown",
   "metadata": {},
   "source": [
    "### 2.1. Conjunctive query\n",
    "For the first version of the search engine, we narrow our interest on the Synopsis of each anime. It means that you will evaluate queries only with respect to the anime's description."
   ]
  },
  {
   "cell_type": "code",
   "execution_count": 3,
   "metadata": {},
   "outputs": [],
   "source": [
    "df = pd.read_table(\"../shared_stuff/tsv_files/total_pages.tsv\",\n",
    "                       delimiter = \"\\t\",\n",
    "                       header = \"infer\",\n",
    "                       on_bad_lines = \"skip\") # fix line 16473"
   ]
  },
  {
   "cell_type": "code",
   "execution_count": 147,
   "metadata": {},
   "outputs": [],
   "source": [
    "#https://towardsdatascience.com/text-preprocessing-with-nltk-9de5de891658?gi=ab3fb4cef5b4\n",
    "\n",
    "# IMPROVE!!!\n",
    "# (I think it's too aggressive)\n",
    "\n",
    "def preprocess(text, stemmer):\n",
    "    \n",
    "    text = str(text)\n",
    "    \n",
    "    punct = string.punctuation + \"...\" + \"''\" + \"``\" + '\"\"' \n",
    "    stops = stopwords.words(\"english\")\n",
    "    \n",
    "    other_suffixes = \"'s\" + \"n't\"\n",
    "    \n",
    "    tokens = word_tokenize(text)\n",
    "    \n",
    "    # also remove anything with numbers\n",
    "    \n",
    "    return [stemmer.stem(w) for w in tokens \n",
    "            if w not in stops and w not in punct and w not in other_suffixes]"
   ]
  },
  {
   "cell_type": "code",
   "execution_count": 8,
   "metadata": {},
   "outputs": [],
   "source": [
    "stemmer = SnowballStemmer(\"english\")\n",
    "\n",
    "df['synopsis_clean'] = df.apply(lambda row: preprocess(row['synopsis'], stemmer), \n",
    "                                axis = 'columns')"
   ]
  },
  {
   "cell_type": "markdown",
   "metadata": {},
   "source": [
    "### 2.1.1) Create your index!\n",
    "Before building the index,\n",
    "\n",
    "Create a file named vocabulary, in the format you prefer, that maps each word to an integer (term_id).\n",
    "Then, the first brick of your homework is to create the Inverted Index. It will be a dictionary of this format:\n",
    "\n",
    "{\n",
    "term_id_1:[document_1, document_2, document_4],\n",
    "term_id_2:[document_1, document_3, document_5, document_6],\n",
    "...}\n",
    "where document_i is the id of a document that contains the word.\n",
    "\n",
    "Hint: Since you do not want to compute the inverted index every time you use the Search Engine, it is worth to think to store it in a separate file and load it in memory when needed."
   ]
  },
  {
   "cell_type": "code",
   "execution_count": 9,
   "metadata": {},
   "outputs": [],
   "source": [
    "def create_vocab(corpus):\n",
    "    \"\"\"\n",
    "    This function creates a set of unique\n",
    "    and preprocessed words from a corpus\n",
    "    \n",
    "    Arguments\n",
    "        corpus : pandas df column or list-like\n",
    "    \n",
    "    Returns\n",
    "        vocab  : dictionary with the words as keys\n",
    "                 and a unique integer for each as values\n",
    "    \"\"\"\n",
    "    \n",
    "    vocab = set()\n",
    "    \n",
    "    for doc in corpus:\n",
    "        vocab.update(set(doc))\n",
    "\n",
    "    return {word:idx for idx, word in enumerate(vocab)}\n",
    "    \n",
    "\n",
    "def save_dict_to_file(dct, filename):\n",
    "    \"\"\"\n",
    "    This function saves a dictionary \n",
    "    to an external JSON file\n",
    "    \n",
    "    Arguments\n",
    "        dct       : dictionary\n",
    "        filename  : name of the file\n",
    "        \n",
    "    Returns\n",
    "        void\n",
    "    \"\"\"\n",
    "        \n",
    "    with open(filename, \"w\") as file:\n",
    "        json.dump(dct, file)\n",
    "        \n",
    "\n",
    "def read_dict_from_file(filename):\n",
    "    \"\"\"\n",
    "    This function reads a dictionary\n",
    "    from an external JSON file\n",
    "        \n",
    "    Arguments\n",
    "        filename : name of the file\n",
    "    \n",
    "    Returns\n",
    "        dct : dictionary with the contents of 'filename'\n",
    "    \"\"\"\n",
    "\n",
    "    with open(filename, \"r\") as file:\n",
    "        dct = json.loads(file.read())\n",
    "\n",
    "    return dct"
   ]
  },
  {
   "cell_type": "code",
   "execution_count": 145,
   "metadata": {},
   "outputs": [],
   "source": [
    "# only execute this cell the first time or \n",
    "# when the preprocessing changes!\n",
    "\n",
    "vocab = create_vocab(df['synopsis_clean'])\n",
    "\n",
    "save_dict_to_file(vocab, \"vocabulary.json\")"
   ]
  },
  {
   "cell_type": "code",
   "execution_count": 10,
   "metadata": {},
   "outputs": [],
   "source": [
    "vocab = read_dict_from_file(\"vocabulary.json\")"
   ]
  },
  {
   "cell_type": "code",
   "execution_count": 152,
   "metadata": {},
   "outputs": [],
   "source": [
    "def create_inv_idx(corpus, vocab):\n",
    "    \n",
    "    \"\"\"\n",
    "    This functions creates an inverted index list\n",
    "    given a corpus of documents and a vocabulary\n",
    "    \n",
    "    Arguments\n",
    "        corpus  : pandas df column or list-like\n",
    "        vocab   : dictionary of all the words in the corpus\n",
    "    \n",
    "    Returns\n",
    "        inv_idx : dictionary with the words as referenced in 'vocab' as keys \n",
    "                  and the lists of the documents each word is in as values       \n",
    "    \"\"\"\n",
    "    \n",
    "    inv_idx = {}\n",
    "    \n",
    "    for idx, word in zip(vocab.values(), vocab.keys()):\n",
    "        inv_idx[idx] = [doc_id for doc_id, doc in enumerate(corpus) if word in doc]\n",
    "    \n",
    "    return inv_idx"
   ]
  },
  {
   "cell_type": "code",
   "execution_count": 205,
   "metadata": {},
   "outputs": [],
   "source": [
    "# only execute this cell the first time or \n",
    "# when the preprocessing/vocabulary change!\n",
    "\n",
    "inv_idx = create_inv_idx(df['synopsis_clean'], vocab)\n",
    "\n",
    "save_dict_to_file(inv_idx, \"inv_idx.json\")"
   ]
  },
  {
   "cell_type": "code",
   "execution_count": 14,
   "metadata": {},
   "outputs": [],
   "source": [
    "# The keys of the dict we get are str, not int like when we created it\n",
    "# I don't think it's necessary, but should we parse them when we read the json?\n",
    "inv_idx = read_dict_from_file(\"inv_idx.json\")"
   ]
  },
  {
   "cell_type": "markdown",
   "metadata": {},
   "source": [
    "### 2.1.2) Execute the query\n",
    "Given a query, that you let the user enter:\n",
    "\n",
    "saiyan race\n",
    "the Search Engine is supposed to return a list of documents.\n",
    "\n",
    "What documents do we want?\n",
    "Since we are dealing with conjunctive queries (AND), each of the returned documents should contain all the words in the query. The final output of the query must return, if present, the following information for each of the selected documents:\n",
    "\n",
    "animeTitle\n",
    "animeDescription\n",
    "Url\n",
    "Example Output:\n",
    "\n",
    "animeTitle\tanimeDescription\tUrl\n",
    "Fullmetal Alchemist: Brotherhood\t...\thttps://myanimelist.net/anime/5114/Fullmetal_Alchemist__Brotherhood\n",
    "Gintama\t...\thttps://myanimelist.net/anime/28977/Gintama%C2%B0\n",
    "Shingeki no Kyojin Season 3 Part 2\t...\thttps://myanimelist.net/anime/38524/Shingeki_no_Kyojin_Season_3_Part_2\n",
    "If everything works well in this step, you can go to the next point, and make your Search Engine more complex and better in answering queries."
   ]
  },
  {
   "cell_type": "code",
   "execution_count": 149,
   "metadata": {},
   "outputs": [],
   "source": [
    "def parse_query(query, vocab):\n",
    "    \"\"\"\n",
    "    This functions converts the list of words\n",
    "    input by the user into the list of the IDs\n",
    "    the words are saved as in the vocabulary\n",
    "    \n",
    "    Arguments\n",
    "        query : list of words\n",
    "        vocab : vocabulary of words with the words as keys\n",
    "                and their IDs as values\n",
    "    Returns\n",
    "        list of the IDs of the words in the query\n",
    "    \"\"\"\n",
    "    \n",
    "    return list(map(lambda word: vocab[word], query))\n",
    "\n",
    "\n",
    "def get_results(query):\n",
    "    \"\"\"\n",
    "    This functions finds the documents all the words\n",
    "    in the query are in.\n",
    "    \n",
    "    It finds them in three steps:\n",
    "    1. creates a list of docs each word is in from the inverted index\n",
    "    2. converts that list into a set\n",
    "    3. intersects all those sets into a single set\n",
    "       \n",
    "    Arguments\n",
    "        query : list of words as parsed by 'parse_query'\n",
    "    Returns\n",
    "        set with the documents that contain all the words in the query\n",
    "    \"\"\"\n",
    "    \n",
    "    return set.intersection(*[set(inv_idx[str(q)]) for q in query])\n",
    "\n",
    "\n",
    "def get_df_entries(df, results,\n",
    "                   url_file = \"../shared_stuff/url_list.txt\"):\n",
    "    \n",
    "    \"\"\"\n",
    "    This function filters the dataset so it only shows\n",
    "    the rows which match the results, and adds a new column\n",
    "    with the URL for the anime of each row.\n",
    "    \n",
    "    Arguments\n",
    "        df       : pandas dataframe\n",
    "        results  : set with the row indices to be filtered out\n",
    "        url_file : external file with the URLs for each of the rows in df\n",
    "    \n",
    "    Returns\n",
    "        df : filtered pandas dataframe\n",
    "    \"\"\"\n",
    "    \n",
    "    if not results:\n",
    "        print(\"No results!\")\n",
    "        return\n",
    "    \n",
    "    with open(url_file, 'r') as file:\n",
    "        url_list = file.read().split(\"\\n\")\n",
    "\n",
    "    df = df.iloc[[*results]]\n",
    "    df = df[[\"title\", \"synopsis\"]]\n",
    "    df = df.rename(columns = {\"title\": \"animeTitle\", \n",
    "                              \"synopsis\": \"animeDescription\"})\n",
    "    \n",
    "    df['animeUrl'] = itemgetter(*results)(url_list)\n",
    "    \n",
    "    return df"
   ]
  },
  {
   "cell_type": "code",
   "execution_count": 153,
   "metadata": {},
   "outputs": [
    {
     "name": "stdin",
     "output_type": "stream",
     "text": [
      " cowboy bebop\n"
     ]
    },
    {
     "data": {
      "text/html": [
       "<div>\n",
       "<style scoped>\n",
       "    .dataframe tbody tr th:only-of-type {\n",
       "        vertical-align: middle;\n",
       "    }\n",
       "\n",
       "    .dataframe tbody tr th {\n",
       "        vertical-align: top;\n",
       "    }\n",
       "\n",
       "    .dataframe thead th {\n",
       "        text-align: right;\n",
       "    }\n",
       "</style>\n",
       "<table border=\"1\" class=\"dataframe\">\n",
       "  <thead>\n",
       "    <tr style=\"text-align: right;\">\n",
       "      <th></th>\n",
       "      <th>animeTitle</th>\n",
       "      <th>animeDescription</th>\n",
       "      <th>animeUrl</th>\n",
       "    </tr>\n",
       "  </thead>\n",
       "  <tbody>\n",
       "    <tr>\n",
       "      <th>1866</th>\n",
       "      <td>Cowboy Bebop: Yose Atsume Blues (Cowboy Bebop ...</td>\n",
       "      <td>Due to the violence portrayed in the Cowboy Be...</td>\n",
       "      <td>https://myanimelist.net/anime/33028/Danganronp...</td>\n",
       "    </tr>\n",
       "    <tr>\n",
       "      <th>31</th>\n",
       "      <td>Cowboy Bebop</td>\n",
       "      <td>In the year 2071, humanity has colonized sever...</td>\n",
       "      <td>https://myanimelist.net/anime/1/Cowboy_Bebop</td>\n",
       "    </tr>\n",
       "  </tbody>\n",
       "</table>\n",
       "</div>"
      ],
      "text/plain": [
       "                                             animeTitle  \\\n",
       "1866  Cowboy Bebop: Yose Atsume Blues (Cowboy Bebop ...   \n",
       "31                                         Cowboy Bebop   \n",
       "\n",
       "                                       animeDescription  \\\n",
       "1866  Due to the violence portrayed in the Cowboy Be...   \n",
       "31    In the year 2071, humanity has colonized sever...   \n",
       "\n",
       "                                               animeUrl  \n",
       "1866  https://myanimelist.net/anime/33028/Danganronp...  \n",
       "31         https://myanimelist.net/anime/1/Cowboy_Bebop  "
      ]
     },
     "metadata": {},
     "output_type": "display_data"
    }
   ],
   "source": [
    "# TODO: ERROR HANDLING!\n",
    "# (i.e. word not in the vocab, anything else (?))\n",
    "\n",
    "query = parse_query(input().split(), vocab)\n",
    "\n",
    "results = get_results(query)\n",
    "\n",
    "df_entries = get_df_entries(df, results)\n",
    "\n",
    "display(df_entries)"
   ]
  },
  {
   "cell_type": "markdown",
   "metadata": {},
   "source": [
    "### 2.2) Conjunctive query & Ranking score\n",
    "For the second search engine, given a query, we want to get the top-k (the choice of k it's up to you!) documents related to the query. In particular:\n",
    "\n",
    "* Find all the documents that contains all the words in the query.\n",
    "* Sort them by their similarity with the query.\n",
    "* Return in output k documents, or all the documents with non-zero similarity with the query when the results are less than k. You must use a heap data structure (you can use é * Python libraries) for maintaining the top-k documents.\n",
    "\n",
    "To solve this task, you will have to use the tfIdf score, and the Cosine similarity. The field to consider it is still the synopsis. Let's see how."
   ]
  },
  {
   "cell_type": "markdown",
   "metadata": {},
   "source": []
  },
  {
   "cell_type": "markdown",
   "metadata": {},
   "source": [
    "### 2.2.1) Inverted index"
   ]
  },
  {
   "cell_type": "code",
   "execution_count": null,
   "metadata": {},
   "outputs": [],
   "source": [
    "# bozza\n",
    "\n",
    "# def create_inv_idx(corpus, vocab):\n",
    "#     \n",
    "#     inv_idx = {}\n",
    "#     \n",
    "#     for doc_num, doc in enumerate(corpus):\n",
    "#         cnt = Counter(doc)\n",
    "#         for word, idx in zip(vocab.keys(), vocab.values()):\n",
    "#             inv_idx[idx] = (cnt[word])\n",
    "#     \n",
    "#     return inv_idx"
   ]
  },
  {
   "cell_type": "markdown",
   "metadata": {},
   "source": []
  },
  {
   "cell_type": "markdown",
   "metadata": {},
   "source": [
    "### 2.2.2) Execute the query"
   ]
  },
  {
   "cell_type": "markdown",
   "metadata": {},
   "source": []
  },
  {
   "cell_type": "markdown",
   "metadata": {},
   "source": []
  },
  {
   "cell_type": "markdown",
   "metadata": {},
   "source": [
    "## 3. DEFINE A NEW SCORE!"
   ]
  },
  {
   "cell_type": "markdown",
   "metadata": {},
   "source": []
  },
  {
   "cell_type": "markdown",
   "metadata": {},
   "source": []
  },
  {
   "cell_type": "markdown",
   "metadata": {},
   "source": []
  },
  {
   "cell_type": "markdown",
   "metadata": {},
   "source": [
    "## 5. Algorithmic question\n",
    "You consult for a personal trainer who has a back-to-back sequence of requests for appointments. A sequence of requests is of the form > 30, 40, 25, 50, 30, 20 where each number is the time that the person who makes the appointment wants to spend. You need to accept some requests, however you need a break between them, so you cannot accept two consecutive requests. For example, [30, 50, 20] is an acceptable solution (of duration 100), but [30, 40, 50, 20] is not, because 30 and 40 are two consecutive appointments. Your goal is to provide to the personal trainer a schedule that maximizes the total length of the accepted appointments. For example, in the previous instance, the optimal solution is [40, 50, 20], of total duration 110.\n",
    "\n",
    "* Write an algorithm that computes the acceptable solution with the longest possible duration.\n",
    "* Implement a program that given in input an instance in the form given above, gives the optimal solution."
   ]
  },
  {
   "cell_type": "code",
   "execution_count": null,
   "metadata": {},
   "outputs": [],
   "source": [
    "def algoritmo (array):\n",
    "    a=0\n",
    "    b=array[0]\n",
    "    for elem in array[1:]:\n",
    "        n=max(a+elem,b)\n",
    "        a=b\n",
    "        b=n\n",
    "    return b"
   ]
  },
  {
   "cell_type": "code",
   "execution_count": null,
   "metadata": {},
   "outputs": [
    {
     "data": {
      "text/plain": [
       "64"
      ]
     },
     "execution_count": 3,
     "metadata": {},
     "output_type": "execute_result"
    }
   ],
   "source": [
    "array=[3,4,5,60,4]\n",
    "algoritmo(array)"
   ]
  },
  {
   "cell_type": "code",
   "execution_count": null,
   "metadata": {},
   "outputs": [],
   "source": []
  }
 ],
 "metadata": {
  "interpreter": {
   "hash": "c0e40e7c7a66e87c69eaa7498d7778a1d8fa6b3e422091d0b3e8dafd8f730247"
  },
  "kernelspec": {
   "display_name": "Python 3 (ipykernel)",
   "language": "python",
   "name": "python3"
  },
  "language_info": {
   "codemirror_mode": {
    "name": "ipython",
    "version": 3
   },
   "file_extension": ".py",
   "mimetype": "text/x-python",
   "name": "python",
   "nbconvert_exporter": "python",
   "pygments_lexer": "ipython3",
   "version": "3.7.11"
  }
 },
 "nbformat": 4,
 "nbformat_minor": 4
}
