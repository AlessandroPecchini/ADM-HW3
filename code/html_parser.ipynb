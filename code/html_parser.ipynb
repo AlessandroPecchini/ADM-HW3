{
 "cells": [
  {
   "cell_type": "code",
   "execution_count": 1,
   "metadata": {},
   "outputs": [],
   "source": [
    "from bs4 import BeautifulSoup"
   ]
  },
  {
   "cell_type": "code",
   "execution_count": 2,
   "metadata": {},
   "outputs": [],
   "source": [
    "f = open('../data/prova_1500/article_0.html', 'r')\n",
    "soup = BeautifulSoup(f.read(), 'html.parser')\n",
    "f.close()"
   ]
  },
  {
   "cell_type": "code",
   "execution_count": 15,
   "metadata": {},
   "outputs": [
    {
     "data": {
      "text/plain": [
       "'Fullmetal Alchemist: Brotherhood - MyAnimeList.net'"
      ]
     },
     "execution_count": 15,
     "metadata": {},
     "output_type": "execute_result"
    }
   ],
   "source": [
    "title = soup.find('title')\n",
    "title.contents[0].strip()"
   ]
  },
  {
   "cell_type": "code",
   "execution_count": 40,
   "metadata": {},
   "outputs": [
    {
     "name": "stdout",
     "output_type": "stream",
     "text": [
      "tag: Episodes: value: 64\n",
      "tag: Aired: value: start: 2009-04-05 00:00:00, end: 2010-07-04 00:00:00\n",
      "Score:\n",
      "\tscore: 9.16\n",
      "\tusers: 1622384\n",
      "tag: Ranked: value: 1\n",
      "tag: Popularity: value: 3\n",
      "tag: Members: value: 2,675,751\n"
     ]
    }
   ],
   "source": [
    "from datetime import datetime\n",
    "divs = soup.find_all('div', {\"class\": \"spaceit_pad\"})\n",
    "from_interest = ['Episodes:','Aired:','Members:','Ranked:','Popularity:']\n",
    "ret = dict()\n",
    "for div in divs:\n",
    "    content = div.contents\n",
    "    tag = content[1].contents[0]\n",
    "    if tag=='Score:':\n",
    "        print('Score:')\n",
    "        attr= {'itemprop':'ratingValue'}\n",
    "        print(f\"\\tscore: {div.find('span', attr).contents[0]}\")\n",
    "        attr = {'itemprop':'ratingCount'}\n",
    "        print(f\"\\tusers: {div.find('span', attr).contents[0]}\")\n",
    "    if tag in from_interest:\n",
    "        val = content[2].strip()\n",
    "        if val.startswith('#'):\n",
    "            val=val[1:]\n",
    "        elif 'to' in val:\n",
    "            start, end = val.split('to')\n",
    "            start = start.strip()\n",
    "            start = datetime.strptime(start, '%b %d, %Y')\n",
    "            end = datetime.strptime(end.strip(), '%b %d, %Y')\n",
    "            val = f'start: {start}, end: {end}'\n",
    "\n",
    "    #print(div.contents)"
   ]
  },
  {
   "cell_type": "code",
   "execution_count": null,
   "metadata": {},
   "outputs": [],
   "source": [
    "tables"
   ]
  },
  {
   "cell_type": "code",
   "execution_count": null,
   "metadata": {},
   "outputs": [],
   "source": []
  }
 ],
 "metadata": {
  "interpreter": {
   "hash": "2e3f86d80f9d4ea2c2a83e8f7b2349235d41b98d2c2cd154f6179deca092a54d"
  },
  "kernelspec": {
   "display_name": "Python 3.8.8 64-bit ('base': conda)",
   "name": "python3"
  },
  "language_info": {
   "codemirror_mode": {
    "name": "ipython",
    "version": 3
   },
   "file_extension": ".py",
   "mimetype": "text/x-python",
   "name": "python",
   "nbconvert_exporter": "python",
   "pygments_lexer": "ipython3",
   "version": "3.8.8"
  },
  "orig_nbformat": 4
 },
 "nbformat": 4,
 "nbformat_minor": 2
}
